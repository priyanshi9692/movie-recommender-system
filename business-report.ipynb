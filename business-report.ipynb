{
 "cells": [
  {
   "cell_type": "markdown",
   "id": "20df306a-bcfc-4a5f-b20e-9dac3c84010a",
   "metadata": {},
   "source": [
    "# Business Evaluation Report\n",
    "\n",
    "To validate profitability of the recommender engine, I am simulating the business model for a specific user (I am taking user_id = 9) by calculating the expected revenue and costs based on the provided business context\n",
    "\n",
    "* Movie Rental Fee: `$5`\n",
    "* Movie Purchase Fee: `$12`\n",
    "* Monthly Membership: `$20`\n",
    "* Cost of Storing Uncompressed Movie: `$0.75/day`\n",
    "* Cost of Movie Recommendation: `$0.01/recommended movie`\n",
    "* Constraints on movie renting and purchasing: Every rented movie has a rental expiration period of 72 hours. When a rented movie is started, it must be completed in the next 24 hours. These constraints are associated with the client’s expenses to store rented movies in a de-compressed format. When a purchased movie is not watched in the last 15 days, it gets compressed to reduce storage costs."
   ]
  },
  {
   "cell_type": "markdown",
   "id": "2fb671c3-9971-4640-82d6-7f4361a4aaab",
   "metadata": {},
   "source": [
    "## Import the required libraries"
   ]
  },
  {
   "cell_type": "code",
   "execution_count": 1,
   "id": "7387fcce-70a1-479d-a500-eb2760517b77",
   "metadata": {},
   "outputs": [],
   "source": [
    "import pandas as pd\n",
    "import streamlit as st\n",
    "from joblib import load\n",
    "from datetime import datetime, timedelta\n",
    "import random"
   ]
  },
  {
   "cell_type": "markdown",
   "id": "c3d3652d-19c5-4406-9f0a-b8aba21a4302",
   "metadata": {},
   "source": [
    "## Load files\n",
    "\n",
    "1. Load pre-trained recommender model\n",
    "2. Load ratings csv\n",
    "3. Load movies csv"
   ]
  },
  {
   "cell_type": "code",
   "execution_count": 2,
   "id": "22b462a9-84d6-4f91-b881-f78d2acf8afd",
   "metadata": {},
   "outputs": [],
   "source": [
    "model = load('recommendation_model.joblib')\n",
    "ratings = pd.read_csv('ratings.csv')\n",
    "movies = pd.read_csv('movies.csv')"
   ]
  },
  {
   "cell_type": "markdown",
   "id": "09489115-5af5-45c9-8610-7d1584b7f03a",
   "metadata": {},
   "source": [
    "### Method to get recommendations\n",
    "\n",
    "I am reusing the code I have written in the `recommend_movie.py`,  it just I will be returning (movie_id, rating) instead of (movie_name, rating)"
   ]
  },
  {
   "cell_type": "code",
   "execution_count": 3,
   "id": "ae3aebec-5437-4f1a-802d-8977d7f6925c",
   "metadata": {},
   "outputs": [],
   "source": [
    "def get_movie_recommendations(user_id, model, n=5):\n",
    "    \"\"\"\n",
    "    Get Movie Recommendations for a User\n",
    "    \n",
    "    Given a user ID, a recommendation model, and an optional parameter for the number of recommendations (default is 5),\n",
    "    this function predicts and returns the top N movie recommendations for the user.\n",
    "    \n",
    "    Parameters:\n",
    "    - user_id (int): The ID of the user for whom movie recommendations are requested.\n",
    "    - model: The recommendation model used for predicting movie ratings.\n",
    "    - n (int, optional): The number of movie recommendations to generate. The default is 5.\n",
    "    \n",
    "    Returns:\n",
    "    - List of tuples, each containing a movie ID and its estimated rating, representing the top N recommended movies.\n",
    "    \"\"\"\n",
    "    # Get a list of all movie_id\n",
    "    all_movie_ids = ratings['movieId'].unique()\n",
    "    \n",
    "    # Get movie_id not rated by the user\n",
    "    user_ratings = ratings[ratings['userId'] == user_id]\n",
    "    user_rated_movies = user_ratings['movieId'].values\n",
    "    user_unrated_movies = []\n",
    "    for movie_id in all_movie_ids:\n",
    "        if movie_id not in user_rated_movies:\n",
    "            user_unrated_movies.append(movie_id)\n",
    "    \n",
    "    # Predict ratings for unrated movies\n",
    "    predictions = [model.predict(user_id, movie_id) for movie_id in user_unrated_movies]\n",
    "    predictions.sort(key=lambda x: x.est, reverse=True)\n",
    "    # Get the top N recommendations\n",
    "    top_recommendations = predictions[:n]\n",
    "    # top_movies_info = [(movies[movies['movieId'] == prediction.iid]['title'].values[0], prediction.est) for prediction in top_recommendations]\n",
    "    top_movie_ids =  [(prediction.iid, prediction.est) for prediction in top_recommendations]\n",
    "    return top_movie_ids\n"
   ]
  },
  {
   "cell_type": "markdown",
   "id": "857e4710-f166-4117-8179-19110cbb4b26",
   "metadata": {},
   "source": [
    "## Business Evaluation\n",
    "\n",
    "Using information provided for the business profitability analysis and declaring some constants based on that, and developed a script that can help us to keep up the profit.\n",
    "\n",
    "Some assumptions made here, \n",
    "1. The client will recommend the top 5 movies\n",
    "2. User will rent 3 out of 5 movies\n",
    "3. User will purchase 2 out of 5 movies\n"
   ]
  },
  {
   "cell_type": "code",
   "execution_count": 4,
   "id": "3842b245-2561-492c-afb3-0d4258b03374",
   "metadata": {},
   "outputs": [],
   "source": [
    "RENTAL_FEE = 5\n",
    "PURCHASE_FEE = 12\n",
    "MONTHLY_SUBSCRIPTION_FEE = 20\n",
    "COST_PER_DAY_UNCOMPRESSED_STORAGE = 0.75\n",
    "COST_PER_RECOMMENDED_MOVIE = 0.01\n",
    "RENTAL_EXPIRATION_PERIOD_HOURS = 72\n",
    "WATCHED_THRESHOLD_DAYS = 15"
   ]
  },
  {
   "cell_type": "code",
   "execution_count": 5,
   "id": "e18cd3d7-4143-4a59-92fb-e2d4b95a8d41",
   "metadata": {},
   "outputs": [],
   "source": [
    "def evaluate_profitability(user_id):\n",
    "    \"\"\"\n",
    "    Simulate User Behavior and Evaluate Profitability\n",
    "    \n",
    "    Given a user ID, this function simulates user behavior, including renting and purchasing movies based on recommendations.\n",
    "    It then calculates the total revenue and costs associated with the simulated behavior, considering various business constraints.\n",
    "    \n",
    "    Parameters:\n",
    "    - user_id (int): The ID of the user for whom behavior is simulated.\n",
    "    \n",
    "    Returns:\n",
    "    - Tuple containing total revenue and total costs incurred during the simulation.\n",
    "    \"\"\"\n",
    "    # get recommendations\n",
    "    recommended_movie_ids = get_movie_recommendations(user_id,model,n=5)\n",
    "    # extract movie_ids from the results\n",
    "    movie_ids = [movie_id for movie_id, _ in recommended_movie_ids]\n",
    "\n",
    "    # randomly shuffle the movie_ids and assign the rent or make the user purchase those movies\n",
    "    random.shuffle(movie_ids)\n",
    "    num_movies_rented = min(3, len(movie_ids))\n",
    "    num_movies_purchased = len(movie_ids) - num_movies_rented\n",
    "\n",
    "    # Suppose user rented 3 movies\n",
    "    user_rented_movies = movie_ids[:num_movies_rented] \n",
    "    # Suppose user purchased 2 movies\n",
    "    user_purchased_movies = movie_ids[num_movies_rented:num_movies_rented + num_movies_purchased] \n",
    "  \n",
    "    total_revenue = 0\n",
    "    total_costs = 0\n",
    "\n",
    "    # Calculate revenue and costs for rented movies (simple iteration on the rented_movie list)\n",
    "    for movie_id in user_rented_movies:\n",
    "        rental_expiration_time = datetime.now() + timedelta(hours=RENTAL_EXPIRATION_PERIOD_HOURS)\n",
    "        # Simulate the user watching the movie within the next 24 hours\n",
    "        watched_within_24_hours = datetime.now() + timedelta(hours=23)\n",
    "        \n",
    "        if watched_within_24_hours <= rental_expiration_time:\n",
    "            total_revenue += RENTAL_FEE\n",
    "        else:\n",
    "            # Movie not watched within 24 hours, incur storage cost\n",
    "            total_costs += COST_PER_DAY_UNCOMPRESSED_STORAGE * (rental_expiration_time - watched_within_24_hours).days\n",
    "\n",
    "    # Calculate revenue and costs for purchased movies (simple iteration on the purchased_movie list)\n",
    "    for movie_id in user_purchased_movies:\n",
    "        last_watched_time = datetime.now() - timedelta(days=WATCHED_THRESHOLD_DAYS - 1)\n",
    "        \n",
    "        if last_watched_time >= (datetime.now() - timedelta(days=WATCHED_THRESHOLD_DAYS)):\n",
    "            total_revenue += PURCHASE_FEE\n",
    "        else:\n",
    "            # Movie not watched in the last 15 days, incur compression cost\n",
    "            total_costs += COST_PER_DAY_UNCOMPRESSED_STORAGE * WATCHED_THRESHOLD_DAYS\n",
    "\n",
    "    # Calculate revenue from the monthly membership fee\n",
    "    total_revenue += MONTHLY_SUBSCRIPTION_FEE\n",
    "\n",
    "    # Calculate costs for recommended movies\n",
    "    total_costs += COST_PER_RECOMMENDED_MOVIE * len(recommended_movie_ids)\n",
    "\n",
    "    return total_revenue, total_costs\n"
   ]
  },
  {
   "cell_type": "markdown",
   "id": "3398b433-cc4f-487d-a028-3d8d25cf5d6d",
   "metadata": {},
   "source": [
    "### Validate\n",
    "\n",
    "In here I am generating user_id randomly and then calculating total_revenue and total costs and later calculating profit, and I see with the above assumptions, profit is of $58.95 which is consistent for this recommender engine.\n",
    "\n",
    "The profit figure would change, recommender engine recommends movies to a user, and after renting it, user might feel to buy that movie or vice versa, but as per the analysis I feel profit will always be there. "
   ]
  },
  {
   "cell_type": "code",
   "execution_count": 6,
   "id": "e068ba3e-4cbc-4064-a2fd-674392e28b34",
   "metadata": {},
   "outputs": [
    {
     "name": "stdout",
     "output_type": "stream",
     "text": [
      "471\n",
      "Total Revenue: $59.00\n",
      "Total Costs: $0.05\n",
      "Profit: $58.95\n"
     ]
    }
   ],
   "source": [
    "# Example usage\n",
    "user_id = random.randint(1, 610)   \n",
    "print(user_id)\n",
    "revenue, costs = evaluate_profitability(user_id)\n",
    "\n",
    "# Calculate profit\n",
    "profit = revenue - costs\n",
    "\n",
    "print(f\"Total Revenue: ${revenue:.2f}\")\n",
    "print(f\"Total Costs: ${costs:.2f}\")\n",
    "print(f\"Profit: ${profit:.2f}\")"
   ]
  },
  {
   "cell_type": "code",
   "execution_count": null,
   "id": "312a35e1-54ad-47ec-9298-59d9992258c3",
   "metadata": {},
   "outputs": [],
   "source": []
  }
 ],
 "metadata": {
  "kernelspec": {
   "display_name": "Python 3 (ipykernel)",
   "language": "python",
   "name": "python3"
  },
  "language_info": {
   "codemirror_mode": {
    "name": "ipython",
    "version": 3
   },
   "file_extension": ".py",
   "mimetype": "text/x-python",
   "name": "python",
   "nbconvert_exporter": "python",
   "pygments_lexer": "ipython3",
   "version": "3.10.7"
  }
 },
 "nbformat": 4,
 "nbformat_minor": 5
}
