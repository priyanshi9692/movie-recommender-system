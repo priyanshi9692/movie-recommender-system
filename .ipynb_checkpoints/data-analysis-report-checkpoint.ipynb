{
 "cells": [
  {
   "cell_type": "markdown",
   "id": "0e4b2df3",
   "metadata": {},
   "source": [
    "# Data Analysis Report"
   ]
  },
  {
   "cell_type": "markdown",
   "id": "fe28c717",
   "metadata": {},
   "source": [
    "## Importing required libraries"
   ]
  },
  {
   "cell_type": "code",
   "execution_count": 1,
   "id": "790c3ab8",
   "metadata": {},
   "outputs": [],
   "source": [
    "# !pip install surprise\n",
    "# !pip install wordcloud\n",
    "# !pip install pandoc\n",
    "from surprise import SVD\n",
    "import numpy as np\n",
    "import surprise\n",
    "from surprise import Reader, Dataset\n",
    "import pandas as pd\n",
    "import matplotlib.pyplot as plt\n",
    "import seaborn as sns\n",
    "from wordcloud import WordCloud"
   ]
  },
  {
   "cell_type": "markdown",
   "id": "f513248b",
   "metadata": {},
   "source": [
    "## Description of dataset\n",
    "\n",
    "I will be loading each giving dataset in the start\n",
    "\n",
    "### ratings\n",
    "ratings dataframe has four columns userId, movieId, ratings, timestamp, on a first glance it gives the following insights,\n",
    "\n",
    "1. Each row in the dataframe represents a user(userId) A, rated movie (movieId) B with rating(rating) X\n",
    "2. It has total number of 100836 rows and 4 columns\n",
    "\n",
    "### movies\n",
    "movies dataframe has three columns movieId, title, genres, first glance insights,\n",
    "\n",
    "1. movieId is an integer and seems to be coherent with movieId of ratings table -> (gives me idea that I can join these two dataframes and there are chances I might be able to get what Genres interests a user more, and it might contribute to my recommendation)\n",
    "2. title is nothing but a string i.e. movie name\n",
    "3. genres are separated by pipe | and are closely associated with the movieId and title\n",
    "\n",
    "### tags\n",
    "tags dataframe has four columns userId, movieId, tag, timestamp, first glance insights\n",
    "\n",
    "1. userId, and movieId are of integer type and seems to be in conherence with movies and ratings dataframe\n",
    "2. tag is a new column which is user-generated meta data, I would say a user's perspective for a particular movie, it is also a string (object) datatype\n",
    "\n",
    "#### links\n",
    "links dataframe has three columns movieId, imdbId, tmdbId, based on the information provided in the assessment readme, I am understanding it as the identifiers for movies, and might be helpful once I build recommender system, I can route user to these links. \n",
    "\n",
    "#### tmdb_metadata\n",
    "tmdb_metadata provides meta data for the movies"
   ]
  },
  {
   "cell_type": "markdown",
   "id": "771b7cfd",
   "metadata": {},
   "source": [
    "## Converting JSON files in tmdb folder in a CSV file "
   ]
  },
  {
   "cell_type": "code",
   "execution_count": 2,
   "id": "450fa341",
   "metadata": {},
   "outputs": [
    {
     "data": {
      "text/plain": [
       "'\\nimport os\\nimport json\\nimport pandas as pd\\n\\n# Specify the path to the folder containing JSON files\\njson_folder_path = \\'tmdb\\'\\n\\n# List all JSON files in the folder\\njson_files = [f for f in os.listdir(json_folder_path) if f.endswith(\\'.json\\')]\\n\\n# Initialize an empty list to store data from JSON files\\ndata = []\\n\\n# Read each JSON file and append its data to the list\\nfor json_file in json_files:\\n    with open(os.path.join(json_folder_path, json_file), \\'r\\', encoding=\\'utf-8\\') as f:\\n        file_content = f.read()\\n        if file_content.strip():\\n            try:\\n                json_data = json.loads(file_content)\\n                data.append(json_data)\\n            except json.JSONDecodeError as e:\\n                print(f\"Error loading {json_file}: {e}\")\\n\\n# Convert the list of dictionaries to a Pandas DataFrame\\ndf = pd.DataFrame(data)\\n\\n# Specify the path for the output CSV file\\ncsv_output_path = \\'tmdb_metadata.csv\\'\\n\\n# Write the DataFrame to a CSV file\\ndf.to_csv(csv_output_path, index=False)\\n\\nprint(f\"CSV file created at: {csv_output_path}\")\\n'"
      ]
     },
     "execution_count": 2,
     "metadata": {},
     "output_type": "execute_result"
    }
   ],
   "source": [
    "# Commenting out the code as I have already generated csv file using this script\n",
    "\"\"\"\n",
    "import os\n",
    "import json\n",
    "import pandas as pd\n",
    "\n",
    "# Specify the path to the folder containing JSON files\n",
    "json_folder_path = 'tmdb'\n",
    "\n",
    "# List all JSON files in the folder\n",
    "json_files = [f for f in os.listdir(json_folder_path) if f.endswith('.json')]\n",
    "\n",
    "# Initialize an empty list to store data from JSON files\n",
    "data = []\n",
    "\n",
    "# Read each JSON file and append its data to the list\n",
    "for json_file in json_files:\n",
    "    with open(os.path.join(json_folder_path, json_file), 'r', encoding='utf-8') as f:\n",
    "        file_content = f.read()\n",
    "        if file_content.strip():\n",
    "            try:\n",
    "                json_data = json.loads(file_content)\n",
    "                data.append(json_data)\n",
    "            except json.JSONDecodeError as e:\n",
    "                print(f\"Error loading {json_file}: {e}\")\n",
    "\n",
    "# Convert the list of dictionaries to a Pandas DataFrame\n",
    "df = pd.DataFrame(data)\n",
    "\n",
    "# Specify the path for the output CSV file\n",
    "csv_output_path = 'tmdb_metadata.csv'\n",
    "\n",
    "# Write the DataFrame to a CSV file\n",
    "df.to_csv(csv_output_path, index=False)\n",
    "\n",
    "print(f\"CSV file created at: {csv_output_path}\")\n",
    "\"\"\""
   ]
  },
  {
   "cell_type": "markdown",
   "id": "3cab7435",
   "metadata": {},
   "source": [
    "## Load all the csv data"
   ]
  },
  {
   "cell_type": "code",
   "execution_count": 3,
   "id": "2b5beaf5",
   "metadata": {},
   "outputs": [],
   "source": [
    "ratings = pd.read_csv(\"ratings.csv\")"
   ]
  },
  {
   "cell_type": "code",
   "execution_count": 4,
   "id": "6635eac7",
   "metadata": {},
   "outputs": [
    {
     "name": "stdout",
     "output_type": "stream",
     "text": [
      "Ratings dataset\n"
     ]
    },
    {
     "data": {
      "text/html": [
       "<div>\n",
       "<style scoped>\n",
       "    .dataframe tbody tr th:only-of-type {\n",
       "        vertical-align: middle;\n",
       "    }\n",
       "\n",
       "    .dataframe tbody tr th {\n",
       "        vertical-align: top;\n",
       "    }\n",
       "\n",
       "    .dataframe thead th {\n",
       "        text-align: right;\n",
       "    }\n",
       "</style>\n",
       "<table border=\"1\" class=\"dataframe\">\n",
       "  <thead>\n",
       "    <tr style=\"text-align: right;\">\n",
       "      <th></th>\n",
       "      <th>userId</th>\n",
       "      <th>movieId</th>\n",
       "      <th>rating</th>\n",
       "      <th>timestamp</th>\n",
       "    </tr>\n",
       "  </thead>\n",
       "  <tbody>\n",
       "    <tr>\n",
       "      <th>0</th>\n",
       "      <td>1</td>\n",
       "      <td>1</td>\n",
       "      <td>4.0</td>\n",
       "      <td>964982703</td>\n",
       "    </tr>\n",
       "    <tr>\n",
       "      <th>1</th>\n",
       "      <td>1</td>\n",
       "      <td>3</td>\n",
       "      <td>4.0</td>\n",
       "      <td>964981247</td>\n",
       "    </tr>\n",
       "    <tr>\n",
       "      <th>2</th>\n",
       "      <td>1</td>\n",
       "      <td>6</td>\n",
       "      <td>4.0</td>\n",
       "      <td>964982224</td>\n",
       "    </tr>\n",
       "    <tr>\n",
       "      <th>3</th>\n",
       "      <td>1</td>\n",
       "      <td>47</td>\n",
       "      <td>5.0</td>\n",
       "      <td>964983815</td>\n",
       "    </tr>\n",
       "    <tr>\n",
       "      <th>4</th>\n",
       "      <td>1</td>\n",
       "      <td>50</td>\n",
       "      <td>5.0</td>\n",
       "      <td>964982931</td>\n",
       "    </tr>\n",
       "  </tbody>\n",
       "</table>\n",
       "</div>"
      ],
      "text/plain": [
       "   userId  movieId  rating  timestamp\n",
       "0       1        1     4.0  964982703\n",
       "1       1        3     4.0  964981247\n",
       "2       1        6     4.0  964982224\n",
       "3       1       47     5.0  964983815\n",
       "4       1       50     5.0  964982931"
      ]
     },
     "execution_count": 4,
     "metadata": {},
     "output_type": "execute_result"
    }
   ],
   "source": [
    "print(\"Ratings dataset\")\n",
    "ratings.head()"
   ]
  },
  {
   "cell_type": "code",
   "execution_count": 5,
   "id": "90d158d4",
   "metadata": {},
   "outputs": [],
   "source": [
    "movies = pd.read_csv(\"movies.csv\")"
   ]
  },
  {
   "cell_type": "code",
   "execution_count": 6,
   "id": "bf44fffc",
   "metadata": {},
   "outputs": [
    {
     "name": "stdout",
     "output_type": "stream",
     "text": [
      "Movies dataset\n"
     ]
    },
    {
     "data": {
      "text/html": [
       "<div>\n",
       "<style scoped>\n",
       "    .dataframe tbody tr th:only-of-type {\n",
       "        vertical-align: middle;\n",
       "    }\n",
       "\n",
       "    .dataframe tbody tr th {\n",
       "        vertical-align: top;\n",
       "    }\n",
       "\n",
       "    .dataframe thead th {\n",
       "        text-align: right;\n",
       "    }\n",
       "</style>\n",
       "<table border=\"1\" class=\"dataframe\">\n",
       "  <thead>\n",
       "    <tr style=\"text-align: right;\">\n",
       "      <th></th>\n",
       "      <th>movieId</th>\n",
       "      <th>title</th>\n",
       "      <th>genres</th>\n",
       "    </tr>\n",
       "  </thead>\n",
       "  <tbody>\n",
       "    <tr>\n",
       "      <th>0</th>\n",
       "      <td>1</td>\n",
       "      <td>Toy Story (1995)</td>\n",
       "      <td>Adventure|Animation|Children|Comedy|Fantasy</td>\n",
       "    </tr>\n",
       "    <tr>\n",
       "      <th>1</th>\n",
       "      <td>2</td>\n",
       "      <td>Jumanji (1995)</td>\n",
       "      <td>Adventure|Children|Fantasy</td>\n",
       "    </tr>\n",
       "    <tr>\n",
       "      <th>2</th>\n",
       "      <td>3</td>\n",
       "      <td>Grumpier Old Men (1995)</td>\n",
       "      <td>Comedy|Romance</td>\n",
       "    </tr>\n",
       "    <tr>\n",
       "      <th>3</th>\n",
       "      <td>4</td>\n",
       "      <td>Waiting to Exhale (1995)</td>\n",
       "      <td>Comedy|Drama|Romance</td>\n",
       "    </tr>\n",
       "    <tr>\n",
       "      <th>4</th>\n",
       "      <td>5</td>\n",
       "      <td>Father of the Bride Part II (1995)</td>\n",
       "      <td>Comedy</td>\n",
       "    </tr>\n",
       "  </tbody>\n",
       "</table>\n",
       "</div>"
      ],
      "text/plain": [
       "   movieId                               title  \\\n",
       "0        1                    Toy Story (1995)   \n",
       "1        2                      Jumanji (1995)   \n",
       "2        3             Grumpier Old Men (1995)   \n",
       "3        4            Waiting to Exhale (1995)   \n",
       "4        5  Father of the Bride Part II (1995)   \n",
       "\n",
       "                                        genres  \n",
       "0  Adventure|Animation|Children|Comedy|Fantasy  \n",
       "1                   Adventure|Children|Fantasy  \n",
       "2                               Comedy|Romance  \n",
       "3                         Comedy|Drama|Romance  \n",
       "4                                       Comedy  "
      ]
     },
     "execution_count": 6,
     "metadata": {},
     "output_type": "execute_result"
    }
   ],
   "source": [
    "print(\"Movies dataset\")\n",
    "movies.head()"
   ]
  },
  {
   "cell_type": "code",
   "execution_count": 7,
   "id": "7dc92ce8",
   "metadata": {},
   "outputs": [],
   "source": [
    "tags = pd.read_csv(\"tags.csv\")"
   ]
  },
  {
   "cell_type": "code",
   "execution_count": 8,
   "id": "838d50ab",
   "metadata": {},
   "outputs": [
    {
     "name": "stdout",
     "output_type": "stream",
     "text": [
      "tags dataset\n"
     ]
    },
    {
     "data": {
      "text/html": [
       "<div>\n",
       "<style scoped>\n",
       "    .dataframe tbody tr th:only-of-type {\n",
       "        vertical-align: middle;\n",
       "    }\n",
       "\n",
       "    .dataframe tbody tr th {\n",
       "        vertical-align: top;\n",
       "    }\n",
       "\n",
       "    .dataframe thead th {\n",
       "        text-align: right;\n",
       "    }\n",
       "</style>\n",
       "<table border=\"1\" class=\"dataframe\">\n",
       "  <thead>\n",
       "    <tr style=\"text-align: right;\">\n",
       "      <th></th>\n",
       "      <th>userId</th>\n",
       "      <th>movieId</th>\n",
       "      <th>tag</th>\n",
       "      <th>timestamp</th>\n",
       "    </tr>\n",
       "  </thead>\n",
       "  <tbody>\n",
       "    <tr>\n",
       "      <th>0</th>\n",
       "      <td>2</td>\n",
       "      <td>60756</td>\n",
       "      <td>funny</td>\n",
       "      <td>1445714994</td>\n",
       "    </tr>\n",
       "    <tr>\n",
       "      <th>1</th>\n",
       "      <td>2</td>\n",
       "      <td>60756</td>\n",
       "      <td>Highly quotable</td>\n",
       "      <td>1445714996</td>\n",
       "    </tr>\n",
       "    <tr>\n",
       "      <th>2</th>\n",
       "      <td>2</td>\n",
       "      <td>60756</td>\n",
       "      <td>will ferrell</td>\n",
       "      <td>1445714992</td>\n",
       "    </tr>\n",
       "    <tr>\n",
       "      <th>3</th>\n",
       "      <td>2</td>\n",
       "      <td>89774</td>\n",
       "      <td>Boxing story</td>\n",
       "      <td>1445715207</td>\n",
       "    </tr>\n",
       "    <tr>\n",
       "      <th>4</th>\n",
       "      <td>2</td>\n",
       "      <td>89774</td>\n",
       "      <td>MMA</td>\n",
       "      <td>1445715200</td>\n",
       "    </tr>\n",
       "  </tbody>\n",
       "</table>\n",
       "</div>"
      ],
      "text/plain": [
       "   userId  movieId              tag   timestamp\n",
       "0       2    60756            funny  1445714994\n",
       "1       2    60756  Highly quotable  1445714996\n",
       "2       2    60756     will ferrell  1445714992\n",
       "3       2    89774     Boxing story  1445715207\n",
       "4       2    89774              MMA  1445715200"
      ]
     },
     "execution_count": 8,
     "metadata": {},
     "output_type": "execute_result"
    }
   ],
   "source": [
    "print(\"tags dataset\")\n",
    "tags.head()"
   ]
  },
  {
   "cell_type": "code",
   "execution_count": 9,
   "id": "5e4a8bb0",
   "metadata": {},
   "outputs": [],
   "source": [
    "links = pd.read_csv(\"links.csv\")"
   ]
  },
  {
   "cell_type": "code",
   "execution_count": 10,
   "id": "eac43aad",
   "metadata": {},
   "outputs": [
    {
     "name": "stdout",
     "output_type": "stream",
     "text": [
      "links dataset\n"
     ]
    },
    {
     "data": {
      "text/html": [
       "<div>\n",
       "<style scoped>\n",
       "    .dataframe tbody tr th:only-of-type {\n",
       "        vertical-align: middle;\n",
       "    }\n",
       "\n",
       "    .dataframe tbody tr th {\n",
       "        vertical-align: top;\n",
       "    }\n",
       "\n",
       "    .dataframe thead th {\n",
       "        text-align: right;\n",
       "    }\n",
       "</style>\n",
       "<table border=\"1\" class=\"dataframe\">\n",
       "  <thead>\n",
       "    <tr style=\"text-align: right;\">\n",
       "      <th></th>\n",
       "      <th>movieId</th>\n",
       "      <th>imdbId</th>\n",
       "      <th>tmdbId</th>\n",
       "    </tr>\n",
       "  </thead>\n",
       "  <tbody>\n",
       "    <tr>\n",
       "      <th>0</th>\n",
       "      <td>1</td>\n",
       "      <td>114709</td>\n",
       "      <td>862.0</td>\n",
       "    </tr>\n",
       "    <tr>\n",
       "      <th>1</th>\n",
       "      <td>2</td>\n",
       "      <td>113497</td>\n",
       "      <td>8844.0</td>\n",
       "    </tr>\n",
       "    <tr>\n",
       "      <th>2</th>\n",
       "      <td>3</td>\n",
       "      <td>113228</td>\n",
       "      <td>15602.0</td>\n",
       "    </tr>\n",
       "    <tr>\n",
       "      <th>3</th>\n",
       "      <td>4</td>\n",
       "      <td>114885</td>\n",
       "      <td>31357.0</td>\n",
       "    </tr>\n",
       "    <tr>\n",
       "      <th>4</th>\n",
       "      <td>5</td>\n",
       "      <td>113041</td>\n",
       "      <td>11862.0</td>\n",
       "    </tr>\n",
       "  </tbody>\n",
       "</table>\n",
       "</div>"
      ],
      "text/plain": [
       "   movieId  imdbId   tmdbId\n",
       "0        1  114709    862.0\n",
       "1        2  113497   8844.0\n",
       "2        3  113228  15602.0\n",
       "3        4  114885  31357.0\n",
       "4        5  113041  11862.0"
      ]
     },
     "execution_count": 10,
     "metadata": {},
     "output_type": "execute_result"
    }
   ],
   "source": [
    "print(\"links dataset\")\n",
    "links.head()"
   ]
  },
  {
   "cell_type": "code",
   "execution_count": 11,
   "id": "f9121312",
   "metadata": {},
   "outputs": [
    {
     "data": {
      "text/plain": [
       "movieId      int64\n",
       "imdbId       int64\n",
       "tmdbId     float64\n",
       "dtype: object"
      ]
     },
     "execution_count": 11,
     "metadata": {},
     "output_type": "execute_result"
    }
   ],
   "source": [
    "links.dtypes"
   ]
  },
  {
   "cell_type": "markdown",
   "id": "11b17d1b",
   "metadata": {},
   "source": [
    "### Merge movies and links dataset on movieId\n",
    "\n",
    "Once we will merge movies with links data, we would be able to merge tmdb_metadata with this merged data, in the next few steps I will be merging these two datasets.\n",
    "\n",
    "#### Reason\n",
    "I am doing this for data exploration, to get better understanding of movies dataset, things like, how movies are distributed among genres, popularity of movies, etc."
   ]
  },
  {
   "cell_type": "code",
   "execution_count": 12,
   "id": "a986ec17",
   "metadata": {},
   "outputs": [],
   "source": [
    "movies_links = pd.merge(movies, links, how='inner', on='movieId')"
   ]
  },
  {
   "cell_type": "code",
   "execution_count": 13,
   "id": "380d9453",
   "metadata": {},
   "outputs": [
    {
     "data": {
      "text/html": [
       "<div>\n",
       "<style scoped>\n",
       "    .dataframe tbody tr th:only-of-type {\n",
       "        vertical-align: middle;\n",
       "    }\n",
       "\n",
       "    .dataframe tbody tr th {\n",
       "        vertical-align: top;\n",
       "    }\n",
       "\n",
       "    .dataframe thead th {\n",
       "        text-align: right;\n",
       "    }\n",
       "</style>\n",
       "<table border=\"1\" class=\"dataframe\">\n",
       "  <thead>\n",
       "    <tr style=\"text-align: right;\">\n",
       "      <th></th>\n",
       "      <th>movieId</th>\n",
       "      <th>title</th>\n",
       "      <th>genres</th>\n",
       "      <th>imdbId</th>\n",
       "      <th>tmdbId</th>\n",
       "    </tr>\n",
       "  </thead>\n",
       "  <tbody>\n",
       "    <tr>\n",
       "      <th>0</th>\n",
       "      <td>1</td>\n",
       "      <td>Toy Story (1995)</td>\n",
       "      <td>Adventure|Animation|Children|Comedy|Fantasy</td>\n",
       "      <td>114709</td>\n",
       "      <td>862.0</td>\n",
       "    </tr>\n",
       "    <tr>\n",
       "      <th>1</th>\n",
       "      <td>2</td>\n",
       "      <td>Jumanji (1995)</td>\n",
       "      <td>Adventure|Children|Fantasy</td>\n",
       "      <td>113497</td>\n",
       "      <td>8844.0</td>\n",
       "    </tr>\n",
       "    <tr>\n",
       "      <th>2</th>\n",
       "      <td>3</td>\n",
       "      <td>Grumpier Old Men (1995)</td>\n",
       "      <td>Comedy|Romance</td>\n",
       "      <td>113228</td>\n",
       "      <td>15602.0</td>\n",
       "    </tr>\n",
       "    <tr>\n",
       "      <th>3</th>\n",
       "      <td>4</td>\n",
       "      <td>Waiting to Exhale (1995)</td>\n",
       "      <td>Comedy|Drama|Romance</td>\n",
       "      <td>114885</td>\n",
       "      <td>31357.0</td>\n",
       "    </tr>\n",
       "    <tr>\n",
       "      <th>4</th>\n",
       "      <td>5</td>\n",
       "      <td>Father of the Bride Part II (1995)</td>\n",
       "      <td>Comedy</td>\n",
       "      <td>113041</td>\n",
       "      <td>11862.0</td>\n",
       "    </tr>\n",
       "  </tbody>\n",
       "</table>\n",
       "</div>"
      ],
      "text/plain": [
       "   movieId                               title  \\\n",
       "0        1                    Toy Story (1995)   \n",
       "1        2                      Jumanji (1995)   \n",
       "2        3             Grumpier Old Men (1995)   \n",
       "3        4            Waiting to Exhale (1995)   \n",
       "4        5  Father of the Bride Part II (1995)   \n",
       "\n",
       "                                        genres  imdbId   tmdbId  \n",
       "0  Adventure|Animation|Children|Comedy|Fantasy  114709    862.0  \n",
       "1                   Adventure|Children|Fantasy  113497   8844.0  \n",
       "2                               Comedy|Romance  113228  15602.0  \n",
       "3                         Comedy|Drama|Romance  114885  31357.0  \n",
       "4                                       Comedy  113041  11862.0  "
      ]
     },
     "execution_count": 13,
     "metadata": {},
     "output_type": "execute_result"
    }
   ],
   "source": [
    "movies_links.head()"
   ]
  },
  {
   "cell_type": "markdown",
   "id": "c2421a94",
   "metadata": {},
   "source": [
    "#### Let's check for the NaN values if any in the dataset"
   ]
  },
  {
   "cell_type": "code",
   "execution_count": 14,
   "id": "4910f37e",
   "metadata": {},
   "outputs": [
    {
     "name": "stdout",
     "output_type": "stream",
     "text": [
      "movieId    0\n",
      "title      0\n",
      "genres     0\n",
      "imdbId     0\n",
      "tmdbId     8\n",
      "dtype: int64\n"
     ]
    }
   ],
   "source": [
    "nan_counts = movies_links.isna().sum()\n",
    "print(nan_counts)"
   ]
  },
  {
   "cell_type": "markdown",
   "id": "ca12aac1",
   "metadata": {},
   "source": [
    "It seems column tmdbId have 8 NA values, I think it would be ok to drop all those rows from the dataset, that would not be huge loss"
   ]
  },
  {
   "cell_type": "markdown",
   "id": "7858b5f7",
   "metadata": {},
   "source": [
    "#### Dropping NaN rows"
   ]
  },
  {
   "cell_type": "code",
   "execution_count": 15,
   "id": "94948bfd",
   "metadata": {},
   "outputs": [],
   "source": [
    "movies_links = movies_links.dropna()"
   ]
  },
  {
   "cell_type": "code",
   "execution_count": 16,
   "id": "612b3064",
   "metadata": {},
   "outputs": [
    {
     "data": {
      "text/html": [
       "<div>\n",
       "<style scoped>\n",
       "    .dataframe tbody tr th:only-of-type {\n",
       "        vertical-align: middle;\n",
       "    }\n",
       "\n",
       "    .dataframe tbody tr th {\n",
       "        vertical-align: top;\n",
       "    }\n",
       "\n",
       "    .dataframe thead th {\n",
       "        text-align: right;\n",
       "    }\n",
       "</style>\n",
       "<table border=\"1\" class=\"dataframe\">\n",
       "  <thead>\n",
       "    <tr style=\"text-align: right;\">\n",
       "      <th></th>\n",
       "      <th>movieId</th>\n",
       "      <th>title</th>\n",
       "      <th>genres</th>\n",
       "      <th>imdbId</th>\n",
       "      <th>tmdbId</th>\n",
       "    </tr>\n",
       "  </thead>\n",
       "  <tbody>\n",
       "    <tr>\n",
       "      <th>0</th>\n",
       "      <td>1</td>\n",
       "      <td>Toy Story (1995)</td>\n",
       "      <td>Adventure|Animation|Children|Comedy|Fantasy</td>\n",
       "      <td>114709</td>\n",
       "      <td>862.0</td>\n",
       "    </tr>\n",
       "    <tr>\n",
       "      <th>1</th>\n",
       "      <td>2</td>\n",
       "      <td>Jumanji (1995)</td>\n",
       "      <td>Adventure|Children|Fantasy</td>\n",
       "      <td>113497</td>\n",
       "      <td>8844.0</td>\n",
       "    </tr>\n",
       "    <tr>\n",
       "      <th>2</th>\n",
       "      <td>3</td>\n",
       "      <td>Grumpier Old Men (1995)</td>\n",
       "      <td>Comedy|Romance</td>\n",
       "      <td>113228</td>\n",
       "      <td>15602.0</td>\n",
       "    </tr>\n",
       "    <tr>\n",
       "      <th>3</th>\n",
       "      <td>4</td>\n",
       "      <td>Waiting to Exhale (1995)</td>\n",
       "      <td>Comedy|Drama|Romance</td>\n",
       "      <td>114885</td>\n",
       "      <td>31357.0</td>\n",
       "    </tr>\n",
       "    <tr>\n",
       "      <th>4</th>\n",
       "      <td>5</td>\n",
       "      <td>Father of the Bride Part II (1995)</td>\n",
       "      <td>Comedy</td>\n",
       "      <td>113041</td>\n",
       "      <td>11862.0</td>\n",
       "    </tr>\n",
       "  </tbody>\n",
       "</table>\n",
       "</div>"
      ],
      "text/plain": [
       "   movieId                               title  \\\n",
       "0        1                    Toy Story (1995)   \n",
       "1        2                      Jumanji (1995)   \n",
       "2        3             Grumpier Old Men (1995)   \n",
       "3        4            Waiting to Exhale (1995)   \n",
       "4        5  Father of the Bride Part II (1995)   \n",
       "\n",
       "                                        genres  imdbId   tmdbId  \n",
       "0  Adventure|Animation|Children|Comedy|Fantasy  114709    862.0  \n",
       "1                   Adventure|Children|Fantasy  113497   8844.0  \n",
       "2                               Comedy|Romance  113228  15602.0  \n",
       "3                         Comedy|Drama|Romance  114885  31357.0  \n",
       "4                                       Comedy  113041  11862.0  "
      ]
     },
     "execution_count": 16,
     "metadata": {},
     "output_type": "execute_result"
    }
   ],
   "source": [
    "movies_links.head()"
   ]
  },
  {
   "cell_type": "markdown",
   "id": "da7e97a2",
   "metadata": {},
   "source": [
    "#### Change datatype"
   ]
  },
  {
   "cell_type": "markdown",
   "id": "2cc4a88a",
   "metadata": {},
   "source": [
    "Also changing the datatype of column tmdbId to int type, because we want to join two datasets `tmdb_metadata` and `movies_links` on tmdbId, and `tmdbId` in the `tmdb_metadata` dataframe is of type `int64`"
   ]
  },
  {
   "cell_type": "code",
   "execution_count": 17,
   "id": "5873494e",
   "metadata": {},
   "outputs": [
    {
     "data": {
      "text/html": [
       "<div>\n",
       "<style scoped>\n",
       "    .dataframe tbody tr th:only-of-type {\n",
       "        vertical-align: middle;\n",
       "    }\n",
       "\n",
       "    .dataframe tbody tr th {\n",
       "        vertical-align: top;\n",
       "    }\n",
       "\n",
       "    .dataframe thead th {\n",
       "        text-align: right;\n",
       "    }\n",
       "</style>\n",
       "<table border=\"1\" class=\"dataframe\">\n",
       "  <thead>\n",
       "    <tr style=\"text-align: right;\">\n",
       "      <th></th>\n",
       "      <th>movieId</th>\n",
       "      <th>title</th>\n",
       "      <th>genres</th>\n",
       "      <th>imdbId</th>\n",
       "      <th>tmdbId</th>\n",
       "    </tr>\n",
       "  </thead>\n",
       "  <tbody>\n",
       "    <tr>\n",
       "      <th>0</th>\n",
       "      <td>1</td>\n",
       "      <td>Toy Story (1995)</td>\n",
       "      <td>Adventure|Animation|Children|Comedy|Fantasy</td>\n",
       "      <td>114709</td>\n",
       "      <td>862</td>\n",
       "    </tr>\n",
       "    <tr>\n",
       "      <th>1</th>\n",
       "      <td>2</td>\n",
       "      <td>Jumanji (1995)</td>\n",
       "      <td>Adventure|Children|Fantasy</td>\n",
       "      <td>113497</td>\n",
       "      <td>8844</td>\n",
       "    </tr>\n",
       "    <tr>\n",
       "      <th>2</th>\n",
       "      <td>3</td>\n",
       "      <td>Grumpier Old Men (1995)</td>\n",
       "      <td>Comedy|Romance</td>\n",
       "      <td>113228</td>\n",
       "      <td>15602</td>\n",
       "    </tr>\n",
       "    <tr>\n",
       "      <th>3</th>\n",
       "      <td>4</td>\n",
       "      <td>Waiting to Exhale (1995)</td>\n",
       "      <td>Comedy|Drama|Romance</td>\n",
       "      <td>114885</td>\n",
       "      <td>31357</td>\n",
       "    </tr>\n",
       "    <tr>\n",
       "      <th>4</th>\n",
       "      <td>5</td>\n",
       "      <td>Father of the Bride Part II (1995)</td>\n",
       "      <td>Comedy</td>\n",
       "      <td>113041</td>\n",
       "      <td>11862</td>\n",
       "    </tr>\n",
       "  </tbody>\n",
       "</table>\n",
       "</div>"
      ],
      "text/plain": [
       "   movieId                               title  \\\n",
       "0        1                    Toy Story (1995)   \n",
       "1        2                      Jumanji (1995)   \n",
       "2        3             Grumpier Old Men (1995)   \n",
       "3        4            Waiting to Exhale (1995)   \n",
       "4        5  Father of the Bride Part II (1995)   \n",
       "\n",
       "                                        genres  imdbId  tmdbId  \n",
       "0  Adventure|Animation|Children|Comedy|Fantasy  114709     862  \n",
       "1                   Adventure|Children|Fantasy  113497    8844  \n",
       "2                               Comedy|Romance  113228   15602  \n",
       "3                         Comedy|Drama|Romance  114885   31357  \n",
       "4                                       Comedy  113041   11862  "
      ]
     },
     "execution_count": 17,
     "metadata": {},
     "output_type": "execute_result"
    }
   ],
   "source": [
    "movies_links['tmdbId'] = movies_links['tmdbId'].astype('int64')\n",
    "movies_links.head()"
   ]
  },
  {
   "cell_type": "markdown",
   "id": "7df3ee30",
   "metadata": {},
   "source": [
    "Bringing in tmdb_metadata in the jupyter notebook cell"
   ]
  },
  {
   "cell_type": "code",
   "execution_count": 18,
   "id": "ab963fc6",
   "metadata": {},
   "outputs": [],
   "source": [
    "tmdb_metadata = pd.read_csv(\"tmdb_metadata.csv\")"
   ]
  },
  {
   "cell_type": "code",
   "execution_count": 19,
   "id": "ab46ed54",
   "metadata": {},
   "outputs": [
    {
     "data": {
      "text/html": [
       "<div>\n",
       "<style scoped>\n",
       "    .dataframe tbody tr th:only-of-type {\n",
       "        vertical-align: middle;\n",
       "    }\n",
       "\n",
       "    .dataframe tbody tr th {\n",
       "        vertical-align: top;\n",
       "    }\n",
       "\n",
       "    .dataframe thead th {\n",
       "        text-align: right;\n",
       "    }\n",
       "</style>\n",
       "<table border=\"1\" class=\"dataframe\">\n",
       "  <thead>\n",
       "    <tr style=\"text-align: right;\">\n",
       "      <th></th>\n",
       "      <th>overview</th>\n",
       "      <th>popularity</th>\n",
       "      <th>original_title</th>\n",
       "      <th>runtime</th>\n",
       "      <th>release_date</th>\n",
       "      <th>vote_average</th>\n",
       "      <th>vote_count</th>\n",
       "      <th>status</th>\n",
       "      <th>tagline</th>\n",
       "      <th>spoken_languages</th>\n",
       "      <th>cast</th>\n",
       "      <th>id</th>\n",
       "    </tr>\n",
       "  </thead>\n",
       "  <tbody>\n",
       "    <tr>\n",
       "      <th>0</th>\n",
       "      <td>The second \"visual album\" (a collection of sho...</td>\n",
       "      <td>8.738</td>\n",
       "      <td>Lemonade</td>\n",
       "      <td>65</td>\n",
       "      <td>2016-04-23</td>\n",
       "      <td>8.497</td>\n",
       "      <td>147</td>\n",
       "      <td>Released</td>\n",
       "      <td>NaN</td>\n",
       "      <td>en</td>\n",
       "      <td>Beyoncé|Jay-Z|Serena Williams|Zendaya|Quvenzha...</td>\n",
       "      <td>394269</td>\n",
       "    </tr>\n",
       "    <tr>\n",
       "      <th>1</th>\n",
       "      <td>Set in 1929, a political boss and his advisor ...</td>\n",
       "      <td>17.518</td>\n",
       "      <td>Miller's Crossing</td>\n",
       "      <td>115</td>\n",
       "      <td>1990-09-21</td>\n",
       "      <td>7.455</td>\n",
       "      <td>1496</td>\n",
       "      <td>Released</td>\n",
       "      <td>Up is down, black is white, and nothing is wha...</td>\n",
       "      <td>en|ga|it|yi</td>\n",
       "      <td>Gabriel Byrne|Albert Finney|Jon Polito|Marcia ...</td>\n",
       "      <td>379</td>\n",
       "    </tr>\n",
       "    <tr>\n",
       "      <th>2</th>\n",
       "      <td>A student's premonition of a deadly rollercoas...</td>\n",
       "      <td>40.900</td>\n",
       "      <td>Final Destination 3</td>\n",
       "      <td>93</td>\n",
       "      <td>2006-02-09</td>\n",
       "      <td>6.081</td>\n",
       "      <td>3549</td>\n",
       "      <td>Released</td>\n",
       "      <td>This ride will be the death of you.</td>\n",
       "      <td>en</td>\n",
       "      <td>Mary Elizabeth Winstead|Ryan Merriman|Kris Lem...</td>\n",
       "      <td>9286</td>\n",
       "    </tr>\n",
       "    <tr>\n",
       "      <th>3</th>\n",
       "      <td>On Christmas Eve, three homeless people living...</td>\n",
       "      <td>21.095</td>\n",
       "      <td>東京ゴッドファーザーズ</td>\n",
       "      <td>93</td>\n",
       "      <td>2003-12-29</td>\n",
       "      <td>7.895</td>\n",
       "      <td>1076</td>\n",
       "      <td>Released</td>\n",
       "      <td>Meet the ultimate dysfunctional family.</td>\n",
       "      <td>en|ja|es</td>\n",
       "      <td>Aya Okamoto|Yoshiaki Umegaki|Tohru Emori|Satom...</td>\n",
       "      <td>13398</td>\n",
       "    </tr>\n",
       "    <tr>\n",
       "      <th>4</th>\n",
       "      <td>A wily old codger matches wits with the King o...</td>\n",
       "      <td>12.456</td>\n",
       "      <td>Darby O'Gill and the Little People</td>\n",
       "      <td>93</td>\n",
       "      <td>1959-06-24</td>\n",
       "      <td>6.700</td>\n",
       "      <td>130</td>\n",
       "      <td>Released</td>\n",
       "      <td>A touch O'Blarney... a heap O'Magic and A LOAD...</td>\n",
       "      <td>ga|en</td>\n",
       "      <td>Albert Sharpe|Janet Munro|Sean Connery|Jimmy O...</td>\n",
       "      <td>18887</td>\n",
       "    </tr>\n",
       "  </tbody>\n",
       "</table>\n",
       "</div>"
      ],
      "text/plain": [
       "                                            overview  popularity  \\\n",
       "0  The second \"visual album\" (a collection of sho...       8.738   \n",
       "1  Set in 1929, a political boss and his advisor ...      17.518   \n",
       "2  A student's premonition of a deadly rollercoas...      40.900   \n",
       "3  On Christmas Eve, three homeless people living...      21.095   \n",
       "4  A wily old codger matches wits with the King o...      12.456   \n",
       "\n",
       "                       original_title  runtime release_date  vote_average  \\\n",
       "0                            Lemonade       65   2016-04-23         8.497   \n",
       "1                   Miller's Crossing      115   1990-09-21         7.455   \n",
       "2                 Final Destination 3       93   2006-02-09         6.081   \n",
       "3                         東京ゴッドファーザーズ       93   2003-12-29         7.895   \n",
       "4  Darby O'Gill and the Little People       93   1959-06-24         6.700   \n",
       "\n",
       "   vote_count    status                                            tagline  \\\n",
       "0         147  Released                                                NaN   \n",
       "1        1496  Released  Up is down, black is white, and nothing is wha...   \n",
       "2        3549  Released                This ride will be the death of you.   \n",
       "3        1076  Released            Meet the ultimate dysfunctional family.   \n",
       "4         130  Released  A touch O'Blarney... a heap O'Magic and A LOAD...   \n",
       "\n",
       "  spoken_languages                                               cast      id  \n",
       "0               en  Beyoncé|Jay-Z|Serena Williams|Zendaya|Quvenzha...  394269  \n",
       "1      en|ga|it|yi  Gabriel Byrne|Albert Finney|Jon Polito|Marcia ...     379  \n",
       "2               en  Mary Elizabeth Winstead|Ryan Merriman|Kris Lem...    9286  \n",
       "3         en|ja|es  Aya Okamoto|Yoshiaki Umegaki|Tohru Emori|Satom...   13398  \n",
       "4            ga|en  Albert Sharpe|Janet Munro|Sean Connery|Jimmy O...   18887  "
      ]
     },
     "execution_count": 19,
     "metadata": {},
     "output_type": "execute_result"
    }
   ],
   "source": [
    "tmdb_metadata.head()"
   ]
  },
  {
   "cell_type": "markdown",
   "id": "1a61f6b9",
   "metadata": {},
   "source": [
    "#### Renaming a column\n",
    "changing the name of the id column to tmdbId so that we can easily join movies_links and tmdb_metadata together"
   ]
  },
  {
   "cell_type": "code",
   "execution_count": 20,
   "id": "1ac9a7f9",
   "metadata": {},
   "outputs": [],
   "source": [
    "tmdb_metadata.rename(columns={'id': 'tmdbId'}, inplace=True)"
   ]
  },
  {
   "cell_type": "code",
   "execution_count": 21,
   "id": "c96d4b95",
   "metadata": {},
   "outputs": [
    {
     "data": {
      "text/html": [
       "<div>\n",
       "<style scoped>\n",
       "    .dataframe tbody tr th:only-of-type {\n",
       "        vertical-align: middle;\n",
       "    }\n",
       "\n",
       "    .dataframe tbody tr th {\n",
       "        vertical-align: top;\n",
       "    }\n",
       "\n",
       "    .dataframe thead th {\n",
       "        text-align: right;\n",
       "    }\n",
       "</style>\n",
       "<table border=\"1\" class=\"dataframe\">\n",
       "  <thead>\n",
       "    <tr style=\"text-align: right;\">\n",
       "      <th></th>\n",
       "      <th>overview</th>\n",
       "      <th>popularity</th>\n",
       "      <th>original_title</th>\n",
       "      <th>runtime</th>\n",
       "      <th>release_date</th>\n",
       "      <th>vote_average</th>\n",
       "      <th>vote_count</th>\n",
       "      <th>status</th>\n",
       "      <th>tagline</th>\n",
       "      <th>spoken_languages</th>\n",
       "      <th>cast</th>\n",
       "      <th>tmdbId</th>\n",
       "    </tr>\n",
       "  </thead>\n",
       "  <tbody>\n",
       "    <tr>\n",
       "      <th>0</th>\n",
       "      <td>The second \"visual album\" (a collection of sho...</td>\n",
       "      <td>8.738</td>\n",
       "      <td>Lemonade</td>\n",
       "      <td>65</td>\n",
       "      <td>2016-04-23</td>\n",
       "      <td>8.497</td>\n",
       "      <td>147</td>\n",
       "      <td>Released</td>\n",
       "      <td>NaN</td>\n",
       "      <td>en</td>\n",
       "      <td>Beyoncé|Jay-Z|Serena Williams|Zendaya|Quvenzha...</td>\n",
       "      <td>394269</td>\n",
       "    </tr>\n",
       "    <tr>\n",
       "      <th>1</th>\n",
       "      <td>Set in 1929, a political boss and his advisor ...</td>\n",
       "      <td>17.518</td>\n",
       "      <td>Miller's Crossing</td>\n",
       "      <td>115</td>\n",
       "      <td>1990-09-21</td>\n",
       "      <td>7.455</td>\n",
       "      <td>1496</td>\n",
       "      <td>Released</td>\n",
       "      <td>Up is down, black is white, and nothing is wha...</td>\n",
       "      <td>en|ga|it|yi</td>\n",
       "      <td>Gabriel Byrne|Albert Finney|Jon Polito|Marcia ...</td>\n",
       "      <td>379</td>\n",
       "    </tr>\n",
       "    <tr>\n",
       "      <th>2</th>\n",
       "      <td>A student's premonition of a deadly rollercoas...</td>\n",
       "      <td>40.900</td>\n",
       "      <td>Final Destination 3</td>\n",
       "      <td>93</td>\n",
       "      <td>2006-02-09</td>\n",
       "      <td>6.081</td>\n",
       "      <td>3549</td>\n",
       "      <td>Released</td>\n",
       "      <td>This ride will be the death of you.</td>\n",
       "      <td>en</td>\n",
       "      <td>Mary Elizabeth Winstead|Ryan Merriman|Kris Lem...</td>\n",
       "      <td>9286</td>\n",
       "    </tr>\n",
       "    <tr>\n",
       "      <th>3</th>\n",
       "      <td>On Christmas Eve, three homeless people living...</td>\n",
       "      <td>21.095</td>\n",
       "      <td>東京ゴッドファーザーズ</td>\n",
       "      <td>93</td>\n",
       "      <td>2003-12-29</td>\n",
       "      <td>7.895</td>\n",
       "      <td>1076</td>\n",
       "      <td>Released</td>\n",
       "      <td>Meet the ultimate dysfunctional family.</td>\n",
       "      <td>en|ja|es</td>\n",
       "      <td>Aya Okamoto|Yoshiaki Umegaki|Tohru Emori|Satom...</td>\n",
       "      <td>13398</td>\n",
       "    </tr>\n",
       "    <tr>\n",
       "      <th>4</th>\n",
       "      <td>A wily old codger matches wits with the King o...</td>\n",
       "      <td>12.456</td>\n",
       "      <td>Darby O'Gill and the Little People</td>\n",
       "      <td>93</td>\n",
       "      <td>1959-06-24</td>\n",
       "      <td>6.700</td>\n",
       "      <td>130</td>\n",
       "      <td>Released</td>\n",
       "      <td>A touch O'Blarney... a heap O'Magic and A LOAD...</td>\n",
       "      <td>ga|en</td>\n",
       "      <td>Albert Sharpe|Janet Munro|Sean Connery|Jimmy O...</td>\n",
       "      <td>18887</td>\n",
       "    </tr>\n",
       "  </tbody>\n",
       "</table>\n",
       "</div>"
      ],
      "text/plain": [
       "                                            overview  popularity  \\\n",
       "0  The second \"visual album\" (a collection of sho...       8.738   \n",
       "1  Set in 1929, a political boss and his advisor ...      17.518   \n",
       "2  A student's premonition of a deadly rollercoas...      40.900   \n",
       "3  On Christmas Eve, three homeless people living...      21.095   \n",
       "4  A wily old codger matches wits with the King o...      12.456   \n",
       "\n",
       "                       original_title  runtime release_date  vote_average  \\\n",
       "0                            Lemonade       65   2016-04-23         8.497   \n",
       "1                   Miller's Crossing      115   1990-09-21         7.455   \n",
       "2                 Final Destination 3       93   2006-02-09         6.081   \n",
       "3                         東京ゴッドファーザーズ       93   2003-12-29         7.895   \n",
       "4  Darby O'Gill and the Little People       93   1959-06-24         6.700   \n",
       "\n",
       "   vote_count    status                                            tagline  \\\n",
       "0         147  Released                                                NaN   \n",
       "1        1496  Released  Up is down, black is white, and nothing is wha...   \n",
       "2        3549  Released                This ride will be the death of you.   \n",
       "3        1076  Released            Meet the ultimate dysfunctional family.   \n",
       "4         130  Released  A touch O'Blarney... a heap O'Magic and A LOAD...   \n",
       "\n",
       "  spoken_languages                                               cast  tmdbId  \n",
       "0               en  Beyoncé|Jay-Z|Serena Williams|Zendaya|Quvenzha...  394269  \n",
       "1      en|ga|it|yi  Gabriel Byrne|Albert Finney|Jon Polito|Marcia ...     379  \n",
       "2               en  Mary Elizabeth Winstead|Ryan Merriman|Kris Lem...    9286  \n",
       "3         en|ja|es  Aya Okamoto|Yoshiaki Umegaki|Tohru Emori|Satom...   13398  \n",
       "4            ga|en  Albert Sharpe|Janet Munro|Sean Connery|Jimmy O...   18887  "
      ]
     },
     "execution_count": 21,
     "metadata": {},
     "output_type": "execute_result"
    }
   ],
   "source": [
    "tmdb_metadata.head()"
   ]
  },
  {
   "cell_type": "code",
   "execution_count": 22,
   "id": "73dd3191",
   "metadata": {},
   "outputs": [],
   "source": [
    "movies_metadata = pd.merge(movies_links, tmdb_metadata, on='tmdbId', how='inner' )"
   ]
  },
  {
   "cell_type": "code",
   "execution_count": 23,
   "id": "7be2f441",
   "metadata": {},
   "outputs": [
    {
     "data": {
      "text/html": [
       "<div>\n",
       "<style scoped>\n",
       "    .dataframe tbody tr th:only-of-type {\n",
       "        vertical-align: middle;\n",
       "    }\n",
       "\n",
       "    .dataframe tbody tr th {\n",
       "        vertical-align: top;\n",
       "    }\n",
       "\n",
       "    .dataframe thead th {\n",
       "        text-align: right;\n",
       "    }\n",
       "</style>\n",
       "<table border=\"1\" class=\"dataframe\">\n",
       "  <thead>\n",
       "    <tr style=\"text-align: right;\">\n",
       "      <th></th>\n",
       "      <th>movieId</th>\n",
       "      <th>title</th>\n",
       "      <th>genres</th>\n",
       "      <th>imdbId</th>\n",
       "      <th>tmdbId</th>\n",
       "      <th>overview</th>\n",
       "      <th>popularity</th>\n",
       "      <th>original_title</th>\n",
       "      <th>runtime</th>\n",
       "      <th>release_date</th>\n",
       "      <th>vote_average</th>\n",
       "      <th>vote_count</th>\n",
       "      <th>status</th>\n",
       "      <th>tagline</th>\n",
       "      <th>spoken_languages</th>\n",
       "      <th>cast</th>\n",
       "    </tr>\n",
       "  </thead>\n",
       "  <tbody>\n",
       "    <tr>\n",
       "      <th>0</th>\n",
       "      <td>1</td>\n",
       "      <td>Toy Story (1995)</td>\n",
       "      <td>Adventure|Animation|Children|Comedy|Fantasy</td>\n",
       "      <td>114709</td>\n",
       "      <td>862</td>\n",
       "      <td>Led by Woody, Andy's toys live happily in his ...</td>\n",
       "      <td>100.954</td>\n",
       "      <td>Toy Story</td>\n",
       "      <td>81</td>\n",
       "      <td>1995-10-30</td>\n",
       "      <td>7.970</td>\n",
       "      <td>17277</td>\n",
       "      <td>Released</td>\n",
       "      <td>Hang on for the comedy that goes to infinity a...</td>\n",
       "      <td>en</td>\n",
       "      <td>Tom Hanks|Tim Allen|Don Rickles|Jim Varney|Wal...</td>\n",
       "    </tr>\n",
       "    <tr>\n",
       "      <th>1</th>\n",
       "      <td>2</td>\n",
       "      <td>Jumanji (1995)</td>\n",
       "      <td>Adventure|Children|Fantasy</td>\n",
       "      <td>113497</td>\n",
       "      <td>8844</td>\n",
       "      <td>When siblings Judy and Peter discover an encha...</td>\n",
       "      <td>13.981</td>\n",
       "      <td>Jumanji</td>\n",
       "      <td>104</td>\n",
       "      <td>1995-12-15</td>\n",
       "      <td>7.239</td>\n",
       "      <td>9891</td>\n",
       "      <td>Released</td>\n",
       "      <td>Roll the dice and unleash the excitement!</td>\n",
       "      <td>en|fr</td>\n",
       "      <td>Robin Williams|Kirsten Dunst|Bradley Pierce|Bo...</td>\n",
       "    </tr>\n",
       "    <tr>\n",
       "      <th>2</th>\n",
       "      <td>3</td>\n",
       "      <td>Grumpier Old Men (1995)</td>\n",
       "      <td>Comedy|Romance</td>\n",
       "      <td>113228</td>\n",
       "      <td>15602</td>\n",
       "      <td>A family wedding reignites the ancient feud be...</td>\n",
       "      <td>12.686</td>\n",
       "      <td>Grumpier Old Men</td>\n",
       "      <td>101</td>\n",
       "      <td>1995-12-22</td>\n",
       "      <td>6.494</td>\n",
       "      <td>350</td>\n",
       "      <td>Released</td>\n",
       "      <td>Still Yelling. Still Fighting. Still Ready for...</td>\n",
       "      <td>en</td>\n",
       "      <td>Walter Matthau|Jack Lemmon|Ann-Margret|Sophia ...</td>\n",
       "    </tr>\n",
       "    <tr>\n",
       "      <th>3</th>\n",
       "      <td>4</td>\n",
       "      <td>Waiting to Exhale (1995)</td>\n",
       "      <td>Comedy|Drama|Romance</td>\n",
       "      <td>114885</td>\n",
       "      <td>31357</td>\n",
       "      <td>Cheated on, mistreated and stepped on, the wom...</td>\n",
       "      <td>11.945</td>\n",
       "      <td>Waiting to Exhale</td>\n",
       "      <td>127</td>\n",
       "      <td>1995-12-22</td>\n",
       "      <td>6.183</td>\n",
       "      <td>142</td>\n",
       "      <td>Released</td>\n",
       "      <td>Friends are the people who let you be yourself...</td>\n",
       "      <td>en</td>\n",
       "      <td>Whitney Houston|Angela Bassett|Loretta Devine|...</td>\n",
       "    </tr>\n",
       "    <tr>\n",
       "      <th>4</th>\n",
       "      <td>5</td>\n",
       "      <td>Father of the Bride Part II (1995)</td>\n",
       "      <td>Comedy</td>\n",
       "      <td>113041</td>\n",
       "      <td>11862</td>\n",
       "      <td>Just when George Banks has recovered from his ...</td>\n",
       "      <td>19.558</td>\n",
       "      <td>Father of the Bride Part II</td>\n",
       "      <td>106</td>\n",
       "      <td>1995-12-08</td>\n",
       "      <td>6.239</td>\n",
       "      <td>665</td>\n",
       "      <td>Released</td>\n",
       "      <td>Just when his world is back to normal... he's ...</td>\n",
       "      <td>en</td>\n",
       "      <td>Steve Martin|Diane Keaton|Martin Short|Kimberl...</td>\n",
       "    </tr>\n",
       "  </tbody>\n",
       "</table>\n",
       "</div>"
      ],
      "text/plain": [
       "   movieId                               title  \\\n",
       "0        1                    Toy Story (1995)   \n",
       "1        2                      Jumanji (1995)   \n",
       "2        3             Grumpier Old Men (1995)   \n",
       "3        4            Waiting to Exhale (1995)   \n",
       "4        5  Father of the Bride Part II (1995)   \n",
       "\n",
       "                                        genres  imdbId  tmdbId  \\\n",
       "0  Adventure|Animation|Children|Comedy|Fantasy  114709     862   \n",
       "1                   Adventure|Children|Fantasy  113497    8844   \n",
       "2                               Comedy|Romance  113228   15602   \n",
       "3                         Comedy|Drama|Romance  114885   31357   \n",
       "4                                       Comedy  113041   11862   \n",
       "\n",
       "                                            overview  popularity  \\\n",
       "0  Led by Woody, Andy's toys live happily in his ...     100.954   \n",
       "1  When siblings Judy and Peter discover an encha...      13.981   \n",
       "2  A family wedding reignites the ancient feud be...      12.686   \n",
       "3  Cheated on, mistreated and stepped on, the wom...      11.945   \n",
       "4  Just when George Banks has recovered from his ...      19.558   \n",
       "\n",
       "                original_title  runtime release_date  vote_average  \\\n",
       "0                    Toy Story       81   1995-10-30         7.970   \n",
       "1                      Jumanji      104   1995-12-15         7.239   \n",
       "2             Grumpier Old Men      101   1995-12-22         6.494   \n",
       "3            Waiting to Exhale      127   1995-12-22         6.183   \n",
       "4  Father of the Bride Part II      106   1995-12-08         6.239   \n",
       "\n",
       "   vote_count    status                                            tagline  \\\n",
       "0       17277  Released  Hang on for the comedy that goes to infinity a...   \n",
       "1        9891  Released          Roll the dice and unleash the excitement!   \n",
       "2         350  Released  Still Yelling. Still Fighting. Still Ready for...   \n",
       "3         142  Released  Friends are the people who let you be yourself...   \n",
       "4         665  Released  Just when his world is back to normal... he's ...   \n",
       "\n",
       "  spoken_languages                                               cast  \n",
       "0               en  Tom Hanks|Tim Allen|Don Rickles|Jim Varney|Wal...  \n",
       "1            en|fr  Robin Williams|Kirsten Dunst|Bradley Pierce|Bo...  \n",
       "2               en  Walter Matthau|Jack Lemmon|Ann-Margret|Sophia ...  \n",
       "3               en  Whitney Houston|Angela Bassett|Loretta Devine|...  \n",
       "4               en  Steve Martin|Diane Keaton|Martin Short|Kimberl...  "
      ]
     },
     "execution_count": 23,
     "metadata": {},
     "output_type": "execute_result"
    }
   ],
   "source": [
    "movies_metadata.head()"
   ]
  },
  {
   "cell_type": "markdown",
   "id": "a7dc889c",
   "metadata": {},
   "source": [
    "## Data exploration on the Movies metadata\n",
    "\n",
    "Movies metadata provides information about various features of movies, such as genres, release dates, popularity, votes, cast, etc. Understanding these features is crucial for building recommendation models that can capture user preferences.\n",
    "Genres play a significant role in user preferences. Analyzing movie genres helps in creating genre-based recommendation systems. Users often have specific genre preferences, and recommending movies based on these preferences can enhance user satisfaction.\n",
    "Collaborative filtering is a popular recommendation technique that relies on user-item interactions. Movies metadata, including user ratings and reviews, is crucial for collaborative filtering models. Analyzing user behavior helps identify patterns and similarities, enabling accurate recommendations.\n",
    "\n",
    "This exploration will be there with code cell by cell\n",
    "\n",
    "Shape of our `movies_metadata` dataframe is `9622*16`, 9622 rows and 16 columns"
   ]
  },
  {
   "cell_type": "markdown",
   "id": "65b5ea66",
   "metadata": {},
   "source": [
    "### Number of unique movie names"
   ]
  },
  {
   "cell_type": "code",
   "execution_count": 24,
   "id": "a7e90611",
   "metadata": {},
   "outputs": [
    {
     "name": "stdout",
     "output_type": "stream",
     "text": [
      "Number of unique movie names: \n",
      "\n"
     ]
    },
    {
     "data": {
      "text/plain": [
       "9619"
      ]
     },
     "execution_count": 24,
     "metadata": {},
     "output_type": "execute_result"
    }
   ],
   "source": [
    "print(\"Number of unique movie names: \\n\")\n",
    "movies_metadata['title'].nunique()"
   ]
  },
  {
   "cell_type": "markdown",
   "id": "90445cbc",
   "metadata": {},
   "source": [
    "### Duplicate data\n",
    "\n",
    "**Looks like there are some duplicates in the movie title (total number of rows 9622 and unique number of titles are 9619), let's find out those duplicate rows**\n",
    "\n",
    "Checking for duplicate titles"
   ]
  },
  {
   "cell_type": "code",
   "execution_count": 25,
   "id": "7f0a7254",
   "metadata": {},
   "outputs": [
    {
     "name": "stdout",
     "output_type": "stream",
     "text": [
      "repeated titles: \n",
      "\n"
     ]
    },
    {
     "data": {
      "text/html": [
       "<div>\n",
       "<style scoped>\n",
       "    .dataframe tbody tr th:only-of-type {\n",
       "        vertical-align: middle;\n",
       "    }\n",
       "\n",
       "    .dataframe tbody tr th {\n",
       "        vertical-align: top;\n",
       "    }\n",
       "\n",
       "    .dataframe thead th {\n",
       "        text-align: right;\n",
       "    }\n",
       "</style>\n",
       "<table border=\"1\" class=\"dataframe\">\n",
       "  <thead>\n",
       "    <tr style=\"text-align: right;\">\n",
       "      <th></th>\n",
       "      <th>movieId</th>\n",
       "      <th>title</th>\n",
       "      <th>genres</th>\n",
       "      <th>imdbId</th>\n",
       "      <th>tmdbId</th>\n",
       "      <th>overview</th>\n",
       "      <th>popularity</th>\n",
       "      <th>original_title</th>\n",
       "      <th>runtime</th>\n",
       "      <th>release_date</th>\n",
       "      <th>vote_average</th>\n",
       "      <th>vote_count</th>\n",
       "      <th>status</th>\n",
       "      <th>tagline</th>\n",
       "      <th>spoken_languages</th>\n",
       "      <th>cast</th>\n",
       "    </tr>\n",
       "  </thead>\n",
       "  <tbody>\n",
       "    <tr>\n",
       "      <th>649</th>\n",
       "      <td>838</td>\n",
       "      <td>Emma (1996)</td>\n",
       "      <td>Comedy|Drama|Romance</td>\n",
       "      <td>116191</td>\n",
       "      <td>3573</td>\n",
       "      <td>Emma Woodhouse is a congenial young lady who d...</td>\n",
       "      <td>15.265</td>\n",
       "      <td>Emma</td>\n",
       "      <td>121</td>\n",
       "      <td>1996-08-02</td>\n",
       "      <td>6.679</td>\n",
       "      <td>545</td>\n",
       "      <td>Released</td>\n",
       "      <td>Cupid is armed and dangerous!</td>\n",
       "      <td>en</td>\n",
       "      <td>Gwyneth Paltrow|Toni Collette|Alan Cumming|Ewa...</td>\n",
       "    </tr>\n",
       "    <tr>\n",
       "      <th>4161</th>\n",
       "      <td>6003</td>\n",
       "      <td>Confessions of a Dangerous Mind (2002)</td>\n",
       "      <td>Comedy|Crime|Drama|Thriller</td>\n",
       "      <td>290538</td>\n",
       "      <td>4912</td>\n",
       "      <td>Television made him famous, but his biggest hi...</td>\n",
       "      <td>15.898</td>\n",
       "      <td>Confessions of a Dangerous Mind</td>\n",
       "      <td>113</td>\n",
       "      <td>2002-12-31</td>\n",
       "      <td>6.710</td>\n",
       "      <td>1044</td>\n",
       "      <td>Released</td>\n",
       "      <td>Some things are better left top secret.</td>\n",
       "      <td>en</td>\n",
       "      <td>Sam Rockwell|Drew Barrymore|George Clooney|Jul...</td>\n",
       "    </tr>\n",
       "    <tr>\n",
       "      <th>4162</th>\n",
       "      <td>144606</td>\n",
       "      <td>Confessions of a Dangerous Mind (2002)</td>\n",
       "      <td>Comedy|Crime|Drama|Romance|Thriller</td>\n",
       "      <td>270288</td>\n",
       "      <td>4912</td>\n",
       "      <td>Television made him famous, but his biggest hi...</td>\n",
       "      <td>15.898</td>\n",
       "      <td>Confessions of a Dangerous Mind</td>\n",
       "      <td>113</td>\n",
       "      <td>2002-12-31</td>\n",
       "      <td>6.710</td>\n",
       "      <td>1044</td>\n",
       "      <td>Released</td>\n",
       "      <td>Some things are better left top secret.</td>\n",
       "      <td>en</td>\n",
       "      <td>Sam Rockwell|Drew Barrymore|George Clooney|Jul...</td>\n",
       "    </tr>\n",
       "    <tr>\n",
       "      <th>5581</th>\n",
       "      <td>26958</td>\n",
       "      <td>Emma (1996)</td>\n",
       "      <td>Romance</td>\n",
       "      <td>118308</td>\n",
       "      <td>12254</td>\n",
       "      <td>Emma Woodhouse has a rigid sense of propriety ...</td>\n",
       "      <td>11.745</td>\n",
       "      <td>Emma</td>\n",
       "      <td>107</td>\n",
       "      <td>1996-10-02</td>\n",
       "      <td>6.700</td>\n",
       "      <td>115</td>\n",
       "      <td>Released</td>\n",
       "      <td>NaN</td>\n",
       "      <td>en</td>\n",
       "      <td>Kate Beckinsale|Mark Strong|Samantha Morton|Ra...</td>\n",
       "    </tr>\n",
       "    <tr>\n",
       "      <th>5903</th>\n",
       "      <td>34048</td>\n",
       "      <td>War of the Worlds (2005)</td>\n",
       "      <td>Action|Adventure|Sci-Fi|Thriller</td>\n",
       "      <td>407304</td>\n",
       "      <td>74</td>\n",
       "      <td>Ray Ferrier is a divorced dockworker and less-...</td>\n",
       "      <td>54.283</td>\n",
       "      <td>War of the Worlds</td>\n",
       "      <td>117</td>\n",
       "      <td>2005-06-28</td>\n",
       "      <td>6.500</td>\n",
       "      <td>7790</td>\n",
       "      <td>Released</td>\n",
       "      <td>They're already here.</td>\n",
       "      <td>en</td>\n",
       "      <td>Tom Cruise|Dakota Fanning|Justin Chatwin|Miran...</td>\n",
       "    </tr>\n",
       "    <tr>\n",
       "      <th>6891</th>\n",
       "      <td>64997</td>\n",
       "      <td>War of the Worlds (2005)</td>\n",
       "      <td>Action|Sci-Fi</td>\n",
       "      <td>449040</td>\n",
       "      <td>34812</td>\n",
       "      <td>In this modern retelling of H.G. Wells' classi...</td>\n",
       "      <td>7.492</td>\n",
       "      <td>H.G. Wells' War of the Worlds</td>\n",
       "      <td>100</td>\n",
       "      <td>2005-06-28</td>\n",
       "      <td>5.519</td>\n",
       "      <td>53</td>\n",
       "      <td>Released</td>\n",
       "      <td>NaN</td>\n",
       "      <td>en</td>\n",
       "      <td>C. Thomas Howell|Rhett Giles|Jake Busey|Peter ...</td>\n",
       "    </tr>\n",
       "  </tbody>\n",
       "</table>\n",
       "</div>"
      ],
      "text/plain": [
       "      movieId                                   title  \\\n",
       "649       838                             Emma (1996)   \n",
       "4161     6003  Confessions of a Dangerous Mind (2002)   \n",
       "4162   144606  Confessions of a Dangerous Mind (2002)   \n",
       "5581    26958                             Emma (1996)   \n",
       "5903    34048                War of the Worlds (2005)   \n",
       "6891    64997                War of the Worlds (2005)   \n",
       "\n",
       "                                   genres  imdbId  tmdbId  \\\n",
       "649                  Comedy|Drama|Romance  116191    3573   \n",
       "4161          Comedy|Crime|Drama|Thriller  290538    4912   \n",
       "4162  Comedy|Crime|Drama|Romance|Thriller  270288    4912   \n",
       "5581                              Romance  118308   12254   \n",
       "5903     Action|Adventure|Sci-Fi|Thriller  407304      74   \n",
       "6891                        Action|Sci-Fi  449040   34812   \n",
       "\n",
       "                                               overview  popularity  \\\n",
       "649   Emma Woodhouse is a congenial young lady who d...      15.265   \n",
       "4161  Television made him famous, but his biggest hi...      15.898   \n",
       "4162  Television made him famous, but his biggest hi...      15.898   \n",
       "5581  Emma Woodhouse has a rigid sense of propriety ...      11.745   \n",
       "5903  Ray Ferrier is a divorced dockworker and less-...      54.283   \n",
       "6891  In this modern retelling of H.G. Wells' classi...       7.492   \n",
       "\n",
       "                       original_title  runtime release_date  vote_average  \\\n",
       "649                              Emma      121   1996-08-02         6.679   \n",
       "4161  Confessions of a Dangerous Mind      113   2002-12-31         6.710   \n",
       "4162  Confessions of a Dangerous Mind      113   2002-12-31         6.710   \n",
       "5581                             Emma      107   1996-10-02         6.700   \n",
       "5903                War of the Worlds      117   2005-06-28         6.500   \n",
       "6891    H.G. Wells' War of the Worlds      100   2005-06-28         5.519   \n",
       "\n",
       "      vote_count    status                                  tagline  \\\n",
       "649          545  Released            Cupid is armed and dangerous!   \n",
       "4161        1044  Released  Some things are better left top secret.   \n",
       "4162        1044  Released  Some things are better left top secret.   \n",
       "5581         115  Released                                      NaN   \n",
       "5903        7790  Released                    They're already here.   \n",
       "6891          53  Released                                      NaN   \n",
       "\n",
       "     spoken_languages                                               cast  \n",
       "649                en  Gwyneth Paltrow|Toni Collette|Alan Cumming|Ewa...  \n",
       "4161               en  Sam Rockwell|Drew Barrymore|George Clooney|Jul...  \n",
       "4162               en  Sam Rockwell|Drew Barrymore|George Clooney|Jul...  \n",
       "5581               en  Kate Beckinsale|Mark Strong|Samantha Morton|Ra...  \n",
       "5903               en  Tom Cruise|Dakota Fanning|Justin Chatwin|Miran...  \n",
       "6891               en  C. Thomas Howell|Rhett Giles|Jake Busey|Peter ...  "
      ]
     },
     "execution_count": 25,
     "metadata": {},
     "output_type": "execute_result"
    }
   ],
   "source": [
    "dup_titles = movies_metadata[movies_metadata.duplicated('title', keep=False)]\n",
    "\n",
    "print(\"repeated titles: \\n\")\n",
    "dup_titles"
   ]
  },
  {
   "cell_type": "markdown",
   "id": "90098de3",
   "metadata": {},
   "source": [
    "## Observation\n",
    "\n",
    "### Duplicate titles\n",
    "\n",
    "1. It seems there are three movie title which are exactly same so does their release year (except for movie Emma which has two different release date)\n",
    "2. I closely observed the genres of these three movies and found some similarity over there\n",
    "3. But it seems popularity value differs for these movies\n",
    "4. I will be sorting the movies based on their popularity because I think for a recommender system popularity of the movie can influence a movie rating, so I will keep the movies with high popularity and will drop the duplicates"
   ]
  },
  {
   "cell_type": "code",
   "execution_count": 26,
   "id": "5a2c8735",
   "metadata": {},
   "outputs": [],
   "source": [
    "movies_metadata = movies_metadata.sort_values(by='popularity', ascending=False)"
   ]
  },
  {
   "cell_type": "code",
   "execution_count": 27,
   "id": "c00d5a99",
   "metadata": {},
   "outputs": [
    {
     "data": {
      "text/html": [
       "<div>\n",
       "<style scoped>\n",
       "    .dataframe tbody tr th:only-of-type {\n",
       "        vertical-align: middle;\n",
       "    }\n",
       "\n",
       "    .dataframe tbody tr th {\n",
       "        vertical-align: top;\n",
       "    }\n",
       "\n",
       "    .dataframe thead th {\n",
       "        text-align: right;\n",
       "    }\n",
       "</style>\n",
       "<table border=\"1\" class=\"dataframe\">\n",
       "  <thead>\n",
       "    <tr style=\"text-align: right;\">\n",
       "      <th></th>\n",
       "      <th>movieId</th>\n",
       "      <th>title</th>\n",
       "      <th>genres</th>\n",
       "      <th>imdbId</th>\n",
       "      <th>tmdbId</th>\n",
       "      <th>overview</th>\n",
       "      <th>popularity</th>\n",
       "      <th>original_title</th>\n",
       "      <th>runtime</th>\n",
       "      <th>release_date</th>\n",
       "      <th>vote_average</th>\n",
       "      <th>vote_count</th>\n",
       "      <th>status</th>\n",
       "      <th>tagline</th>\n",
       "      <th>spoken_languages</th>\n",
       "      <th>cast</th>\n",
       "    </tr>\n",
       "  </thead>\n",
       "  <tbody>\n",
       "    <tr>\n",
       "      <th>0</th>\n",
       "      <td>61350</td>\n",
       "      <td>Babylon A.D. (2008)</td>\n",
       "      <td>Action|Adventure|Sci-Fi|Thriller</td>\n",
       "      <td>364970</td>\n",
       "      <td>9381</td>\n",
       "      <td>A veteran-turned-mercenary is hired to take a ...</td>\n",
       "      <td>679.514</td>\n",
       "      <td>Babylon A.D.</td>\n",
       "      <td>101</td>\n",
       "      <td>2008-08-20</td>\n",
       "      <td>5.600</td>\n",
       "      <td>1874</td>\n",
       "      <td>Released</td>\n",
       "      <td>Kill or be Killed.</td>\n",
       "      <td>en|ru</td>\n",
       "      <td>Vin Diesel|Michelle Yeoh|Mélanie Thierry|Lambe...</td>\n",
       "    </tr>\n",
       "    <tr>\n",
       "      <th>1</th>\n",
       "      <td>177765</td>\n",
       "      <td>Coco (2017)</td>\n",
       "      <td>Adventure|Animation|Children</td>\n",
       "      <td>2380307</td>\n",
       "      <td>354912</td>\n",
       "      <td>Despite his family’s baffling generations-old ...</td>\n",
       "      <td>406.240</td>\n",
       "      <td>Coco</td>\n",
       "      <td>105</td>\n",
       "      <td>2017-10-27</td>\n",
       "      <td>8.217</td>\n",
       "      <td>18096</td>\n",
       "      <td>Released</td>\n",
       "      <td>The celebration of a lifetime</td>\n",
       "      <td>en|es</td>\n",
       "      <td>Anthony Gonzalez|Gael García Bernal|Benjamin B...</td>\n",
       "    </tr>\n",
       "    <tr>\n",
       "      <th>2</th>\n",
       "      <td>99721</td>\n",
       "      <td>Texas Chainsaw 3D (2013)</td>\n",
       "      <td>Horror|Mystery|Thriller</td>\n",
       "      <td>1572315</td>\n",
       "      <td>76617</td>\n",
       "      <td>A young woman learns that she has inherited a ...</td>\n",
       "      <td>212.727</td>\n",
       "      <td>Texas Chainsaw 3D</td>\n",
       "      <td>92</td>\n",
       "      <td>2013-01-03</td>\n",
       "      <td>5.444</td>\n",
       "      <td>1521</td>\n",
       "      <td>Released</td>\n",
       "      <td>Evil wears many faces.</td>\n",
       "      <td>en</td>\n",
       "      <td>Alexandra Daddario|Dan Yeager|Trey Songz|Tania...</td>\n",
       "    </tr>\n",
       "    <tr>\n",
       "      <th>3</th>\n",
       "      <td>122912</td>\n",
       "      <td>Avengers: Infinity War - Part I (2018)</td>\n",
       "      <td>Action|Adventure|Sci-Fi</td>\n",
       "      <td>4154756</td>\n",
       "      <td>299536</td>\n",
       "      <td>As the Avengers and their allies have continue...</td>\n",
       "      <td>202.813</td>\n",
       "      <td>Avengers: Infinity War</td>\n",
       "      <td>149</td>\n",
       "      <td>2018-04-25</td>\n",
       "      <td>8.252</td>\n",
       "      <td>27907</td>\n",
       "      <td>Released</td>\n",
       "      <td>An entire universe. Once and for all.</td>\n",
       "      <td>en|xh</td>\n",
       "      <td>Robert Downey Jr.|Chris Hemsworth|Mark Ruffalo...</td>\n",
       "    </tr>\n",
       "    <tr>\n",
       "      <th>4</th>\n",
       "      <td>112171</td>\n",
       "      <td>Equalizer, The (2014)</td>\n",
       "      <td>Action|Crime|Thriller</td>\n",
       "      <td>455944</td>\n",
       "      <td>156022</td>\n",
       "      <td>McCall believes he has put his mysterious past...</td>\n",
       "      <td>164.860</td>\n",
       "      <td>The Equalizer</td>\n",
       "      <td>132</td>\n",
       "      <td>2014-09-24</td>\n",
       "      <td>7.257</td>\n",
       "      <td>8288</td>\n",
       "      <td>Released</td>\n",
       "      <td>What do you see when you look at me?</td>\n",
       "      <td>en</td>\n",
       "      <td>Denzel Washington|Marton Csokas|Chloë Grace Mo...</td>\n",
       "    </tr>\n",
       "  </tbody>\n",
       "</table>\n",
       "</div>"
      ],
      "text/plain": [
       "   movieId                                   title  \\\n",
       "0    61350                     Babylon A.D. (2008)   \n",
       "1   177765                             Coco (2017)   \n",
       "2    99721                Texas Chainsaw 3D (2013)   \n",
       "3   122912  Avengers: Infinity War - Part I (2018)   \n",
       "4   112171                   Equalizer, The (2014)   \n",
       "\n",
       "                             genres   imdbId  tmdbId  \\\n",
       "0  Action|Adventure|Sci-Fi|Thriller   364970    9381   \n",
       "1      Adventure|Animation|Children  2380307  354912   \n",
       "2           Horror|Mystery|Thriller  1572315   76617   \n",
       "3           Action|Adventure|Sci-Fi  4154756  299536   \n",
       "4             Action|Crime|Thriller   455944  156022   \n",
       "\n",
       "                                            overview  popularity  \\\n",
       "0  A veteran-turned-mercenary is hired to take a ...     679.514   \n",
       "1  Despite his family’s baffling generations-old ...     406.240   \n",
       "2  A young woman learns that she has inherited a ...     212.727   \n",
       "3  As the Avengers and their allies have continue...     202.813   \n",
       "4  McCall believes he has put his mysterious past...     164.860   \n",
       "\n",
       "           original_title  runtime release_date  vote_average  vote_count  \\\n",
       "0            Babylon A.D.      101   2008-08-20         5.600        1874   \n",
       "1                    Coco      105   2017-10-27         8.217       18096   \n",
       "2       Texas Chainsaw 3D       92   2013-01-03         5.444        1521   \n",
       "3  Avengers: Infinity War      149   2018-04-25         8.252       27907   \n",
       "4           The Equalizer      132   2014-09-24         7.257        8288   \n",
       "\n",
       "     status                                tagline spoken_languages  \\\n",
       "0  Released                     Kill or be Killed.            en|ru   \n",
       "1  Released          The celebration of a lifetime            en|es   \n",
       "2  Released                 Evil wears many faces.               en   \n",
       "3  Released  An entire universe. Once and for all.            en|xh   \n",
       "4  Released   What do you see when you look at me?               en   \n",
       "\n",
       "                                                cast  \n",
       "0  Vin Diesel|Michelle Yeoh|Mélanie Thierry|Lambe...  \n",
       "1  Anthony Gonzalez|Gael García Bernal|Benjamin B...  \n",
       "2  Alexandra Daddario|Dan Yeager|Trey Songz|Tania...  \n",
       "3  Robert Downey Jr.|Chris Hemsworth|Mark Ruffalo...  \n",
       "4  Denzel Washington|Marton Csokas|Chloë Grace Mo...  "
      ]
     },
     "execution_count": 27,
     "metadata": {},
     "output_type": "execute_result"
    }
   ],
   "source": [
    "movies_metadata = movies_metadata.drop_duplicates('title', keep='first')\n",
    "movies_metadata.reset_index(drop=True).head()"
   ]
  },
  {
   "cell_type": "code",
   "execution_count": 28,
   "id": "8db76960",
   "metadata": {},
   "outputs": [
    {
     "data": {
      "text/html": [
       "<div>\n",
       "<style scoped>\n",
       "    .dataframe tbody tr th:only-of-type {\n",
       "        vertical-align: middle;\n",
       "    }\n",
       "\n",
       "    .dataframe tbody tr th {\n",
       "        vertical-align: top;\n",
       "    }\n",
       "\n",
       "    .dataframe thead th {\n",
       "        text-align: right;\n",
       "    }\n",
       "</style>\n",
       "<table border=\"1\" class=\"dataframe\">\n",
       "  <thead>\n",
       "    <tr style=\"text-align: right;\">\n",
       "      <th></th>\n",
       "      <th>movieId</th>\n",
       "      <th>title</th>\n",
       "      <th>genres</th>\n",
       "      <th>imdbId</th>\n",
       "      <th>tmdbId</th>\n",
       "      <th>overview</th>\n",
       "      <th>popularity</th>\n",
       "      <th>original_title</th>\n",
       "      <th>runtime</th>\n",
       "      <th>release_date</th>\n",
       "      <th>vote_average</th>\n",
       "      <th>vote_count</th>\n",
       "      <th>status</th>\n",
       "      <th>tagline</th>\n",
       "      <th>spoken_languages</th>\n",
       "      <th>cast</th>\n",
       "    </tr>\n",
       "  </thead>\n",
       "  <tbody>\n",
       "    <tr>\n",
       "      <th>0</th>\n",
       "      <td>1</td>\n",
       "      <td>Toy Story (1995)</td>\n",
       "      <td>Adventure|Animation|Children|Comedy|Fantasy</td>\n",
       "      <td>114709</td>\n",
       "      <td>862</td>\n",
       "      <td>Led by Woody, Andy's toys live happily in his ...</td>\n",
       "      <td>100.954</td>\n",
       "      <td>Toy Story</td>\n",
       "      <td>81</td>\n",
       "      <td>1995-10-30</td>\n",
       "      <td>7.970</td>\n",
       "      <td>17277</td>\n",
       "      <td>Released</td>\n",
       "      <td>Hang on for the comedy that goes to infinity a...</td>\n",
       "      <td>en</td>\n",
       "      <td>Tom Hanks|Tim Allen|Don Rickles|Jim Varney|Wal...</td>\n",
       "    </tr>\n",
       "    <tr>\n",
       "      <th>1</th>\n",
       "      <td>2</td>\n",
       "      <td>Jumanji (1995)</td>\n",
       "      <td>Adventure|Children|Fantasy</td>\n",
       "      <td>113497</td>\n",
       "      <td>8844</td>\n",
       "      <td>When siblings Judy and Peter discover an encha...</td>\n",
       "      <td>13.981</td>\n",
       "      <td>Jumanji</td>\n",
       "      <td>104</td>\n",
       "      <td>1995-12-15</td>\n",
       "      <td>7.239</td>\n",
       "      <td>9891</td>\n",
       "      <td>Released</td>\n",
       "      <td>Roll the dice and unleash the excitement!</td>\n",
       "      <td>en|fr</td>\n",
       "      <td>Robin Williams|Kirsten Dunst|Bradley Pierce|Bo...</td>\n",
       "    </tr>\n",
       "    <tr>\n",
       "      <th>2</th>\n",
       "      <td>3</td>\n",
       "      <td>Grumpier Old Men (1995)</td>\n",
       "      <td>Comedy|Romance</td>\n",
       "      <td>113228</td>\n",
       "      <td>15602</td>\n",
       "      <td>A family wedding reignites the ancient feud be...</td>\n",
       "      <td>12.686</td>\n",
       "      <td>Grumpier Old Men</td>\n",
       "      <td>101</td>\n",
       "      <td>1995-12-22</td>\n",
       "      <td>6.494</td>\n",
       "      <td>350</td>\n",
       "      <td>Released</td>\n",
       "      <td>Still Yelling. Still Fighting. Still Ready for...</td>\n",
       "      <td>en</td>\n",
       "      <td>Walter Matthau|Jack Lemmon|Ann-Margret|Sophia ...</td>\n",
       "    </tr>\n",
       "    <tr>\n",
       "      <th>3</th>\n",
       "      <td>4</td>\n",
       "      <td>Waiting to Exhale (1995)</td>\n",
       "      <td>Comedy|Drama|Romance</td>\n",
       "      <td>114885</td>\n",
       "      <td>31357</td>\n",
       "      <td>Cheated on, mistreated and stepped on, the wom...</td>\n",
       "      <td>11.945</td>\n",
       "      <td>Waiting to Exhale</td>\n",
       "      <td>127</td>\n",
       "      <td>1995-12-22</td>\n",
       "      <td>6.183</td>\n",
       "      <td>142</td>\n",
       "      <td>Released</td>\n",
       "      <td>Friends are the people who let you be yourself...</td>\n",
       "      <td>en</td>\n",
       "      <td>Whitney Houston|Angela Bassett|Loretta Devine|...</td>\n",
       "    </tr>\n",
       "    <tr>\n",
       "      <th>4</th>\n",
       "      <td>5</td>\n",
       "      <td>Father of the Bride Part II (1995)</td>\n",
       "      <td>Comedy</td>\n",
       "      <td>113041</td>\n",
       "      <td>11862</td>\n",
       "      <td>Just when George Banks has recovered from his ...</td>\n",
       "      <td>19.558</td>\n",
       "      <td>Father of the Bride Part II</td>\n",
       "      <td>106</td>\n",
       "      <td>1995-12-08</td>\n",
       "      <td>6.239</td>\n",
       "      <td>665</td>\n",
       "      <td>Released</td>\n",
       "      <td>Just when his world is back to normal... he's ...</td>\n",
       "      <td>en</td>\n",
       "      <td>Steve Martin|Diane Keaton|Martin Short|Kimberl...</td>\n",
       "    </tr>\n",
       "  </tbody>\n",
       "</table>\n",
       "</div>"
      ],
      "text/plain": [
       "   movieId                               title  \\\n",
       "0        1                    Toy Story (1995)   \n",
       "1        2                      Jumanji (1995)   \n",
       "2        3             Grumpier Old Men (1995)   \n",
       "3        4            Waiting to Exhale (1995)   \n",
       "4        5  Father of the Bride Part II (1995)   \n",
       "\n",
       "                                        genres  imdbId  tmdbId  \\\n",
       "0  Adventure|Animation|Children|Comedy|Fantasy  114709     862   \n",
       "1                   Adventure|Children|Fantasy  113497    8844   \n",
       "2                               Comedy|Romance  113228   15602   \n",
       "3                         Comedy|Drama|Romance  114885   31357   \n",
       "4                                       Comedy  113041   11862   \n",
       "\n",
       "                                            overview  popularity  \\\n",
       "0  Led by Woody, Andy's toys live happily in his ...     100.954   \n",
       "1  When siblings Judy and Peter discover an encha...      13.981   \n",
       "2  A family wedding reignites the ancient feud be...      12.686   \n",
       "3  Cheated on, mistreated and stepped on, the wom...      11.945   \n",
       "4  Just when George Banks has recovered from his ...      19.558   \n",
       "\n",
       "                original_title  runtime release_date  vote_average  \\\n",
       "0                    Toy Story       81   1995-10-30         7.970   \n",
       "1                      Jumanji      104   1995-12-15         7.239   \n",
       "2             Grumpier Old Men      101   1995-12-22         6.494   \n",
       "3            Waiting to Exhale      127   1995-12-22         6.183   \n",
       "4  Father of the Bride Part II      106   1995-12-08         6.239   \n",
       "\n",
       "   vote_count    status                                            tagline  \\\n",
       "0       17277  Released  Hang on for the comedy that goes to infinity a...   \n",
       "1        9891  Released          Roll the dice and unleash the excitement!   \n",
       "2         350  Released  Still Yelling. Still Fighting. Still Ready for...   \n",
       "3         142  Released  Friends are the people who let you be yourself...   \n",
       "4         665  Released  Just when his world is back to normal... he's ...   \n",
       "\n",
       "  spoken_languages                                               cast  \n",
       "0               en  Tom Hanks|Tim Allen|Don Rickles|Jim Varney|Wal...  \n",
       "1            en|fr  Robin Williams|Kirsten Dunst|Bradley Pierce|Bo...  \n",
       "2               en  Walter Matthau|Jack Lemmon|Ann-Margret|Sophia ...  \n",
       "3               en  Whitney Houston|Angela Bassett|Loretta Devine|...  \n",
       "4               en  Steve Martin|Diane Keaton|Martin Short|Kimberl...  "
      ]
     },
     "execution_count": 28,
     "metadata": {},
     "output_type": "execute_result"
    }
   ],
   "source": [
    "movies_metadata = movies_metadata.sort_values(by='movieId', ascending=True)\n",
    "movies_metadata.reset_index(drop=True).head()"
   ]
  },
  {
   "cell_type": "markdown",
   "id": "0b7d8845",
   "metadata": {},
   "source": [
    "### Redundant data\n",
    "\n",
    "1. My first observation of column `title` and `original_title` says, these two columns are essentially same except `original_title` also have information in regional language, I think dropping this column would be safe\n",
    "2. Observation on column `title` and `release_date` gives me insight that column `title` possess the information regarding the release year of the movie, my hunch says dropping this column would be safe too (by safe I mean, we will not lose any important information by dropping it)\n",
    "\n",
    "### Information from other columns\n",
    "\n",
    "1. **One another column is `spoken_languages`, this column can would certainly make sense when we would develop community recommendation engine. For example a user from Asian community would like to get recommendation based on some asian languages like Japanese, Korean, Hindi, Chinese etc.** Otherwise, I feel it would not be play a vital role for a generic movie recommendation engine.\n",
    "2. Column `status` can be dropped cause it all the datapoints have a value Released, is certainly not contributing much for the recommendation system\n",
    "3. Other columns at first glance looks helpful, I will be exploring more with the each column."
   ]
  },
  {
   "cell_type": "code",
   "execution_count": 29,
   "id": "7b1ca224",
   "metadata": {},
   "outputs": [
    {
     "data": {
      "text/plain": [
       "array(['Released'], dtype=object)"
      ]
     },
     "execution_count": 29,
     "metadata": {},
     "output_type": "execute_result"
    }
   ],
   "source": [
    "movies_metadata['status'].unique()"
   ]
  },
  {
   "cell_type": "code",
   "execution_count": 30,
   "id": "247694cd",
   "metadata": {},
   "outputs": [],
   "source": [
    "movies_metadata.drop(columns=['original_title', 'release_date', 'status', 'spoken_languages'], inplace=True)"
   ]
  },
  {
   "cell_type": "markdown",
   "id": "dde6a584",
   "metadata": {},
   "source": [
    "#### After doing cleaning the dataframe would look like"
   ]
  },
  {
   "cell_type": "code",
   "execution_count": 31,
   "id": "e70098a5",
   "metadata": {},
   "outputs": [
    {
     "data": {
      "text/html": [
       "<div>\n",
       "<style scoped>\n",
       "    .dataframe tbody tr th:only-of-type {\n",
       "        vertical-align: middle;\n",
       "    }\n",
       "\n",
       "    .dataframe tbody tr th {\n",
       "        vertical-align: top;\n",
       "    }\n",
       "\n",
       "    .dataframe thead th {\n",
       "        text-align: right;\n",
       "    }\n",
       "</style>\n",
       "<table border=\"1\" class=\"dataframe\">\n",
       "  <thead>\n",
       "    <tr style=\"text-align: right;\">\n",
       "      <th></th>\n",
       "      <th>movieId</th>\n",
       "      <th>title</th>\n",
       "      <th>genres</th>\n",
       "      <th>imdbId</th>\n",
       "      <th>tmdbId</th>\n",
       "      <th>overview</th>\n",
       "      <th>popularity</th>\n",
       "      <th>runtime</th>\n",
       "      <th>vote_average</th>\n",
       "      <th>vote_count</th>\n",
       "      <th>tagline</th>\n",
       "      <th>cast</th>\n",
       "    </tr>\n",
       "  </thead>\n",
       "  <tbody>\n",
       "    <tr>\n",
       "      <th>0</th>\n",
       "      <td>1</td>\n",
       "      <td>Toy Story (1995)</td>\n",
       "      <td>Adventure|Animation|Children|Comedy|Fantasy</td>\n",
       "      <td>114709</td>\n",
       "      <td>862</td>\n",
       "      <td>Led by Woody, Andy's toys live happily in his ...</td>\n",
       "      <td>100.954</td>\n",
       "      <td>81</td>\n",
       "      <td>7.970</td>\n",
       "      <td>17277</td>\n",
       "      <td>Hang on for the comedy that goes to infinity a...</td>\n",
       "      <td>Tom Hanks|Tim Allen|Don Rickles|Jim Varney|Wal...</td>\n",
       "    </tr>\n",
       "    <tr>\n",
       "      <th>1</th>\n",
       "      <td>2</td>\n",
       "      <td>Jumanji (1995)</td>\n",
       "      <td>Adventure|Children|Fantasy</td>\n",
       "      <td>113497</td>\n",
       "      <td>8844</td>\n",
       "      <td>When siblings Judy and Peter discover an encha...</td>\n",
       "      <td>13.981</td>\n",
       "      <td>104</td>\n",
       "      <td>7.239</td>\n",
       "      <td>9891</td>\n",
       "      <td>Roll the dice and unleash the excitement!</td>\n",
       "      <td>Robin Williams|Kirsten Dunst|Bradley Pierce|Bo...</td>\n",
       "    </tr>\n",
       "    <tr>\n",
       "      <th>2</th>\n",
       "      <td>3</td>\n",
       "      <td>Grumpier Old Men (1995)</td>\n",
       "      <td>Comedy|Romance</td>\n",
       "      <td>113228</td>\n",
       "      <td>15602</td>\n",
       "      <td>A family wedding reignites the ancient feud be...</td>\n",
       "      <td>12.686</td>\n",
       "      <td>101</td>\n",
       "      <td>6.494</td>\n",
       "      <td>350</td>\n",
       "      <td>Still Yelling. Still Fighting. Still Ready for...</td>\n",
       "      <td>Walter Matthau|Jack Lemmon|Ann-Margret|Sophia ...</td>\n",
       "    </tr>\n",
       "    <tr>\n",
       "      <th>3</th>\n",
       "      <td>4</td>\n",
       "      <td>Waiting to Exhale (1995)</td>\n",
       "      <td>Comedy|Drama|Romance</td>\n",
       "      <td>114885</td>\n",
       "      <td>31357</td>\n",
       "      <td>Cheated on, mistreated and stepped on, the wom...</td>\n",
       "      <td>11.945</td>\n",
       "      <td>127</td>\n",
       "      <td>6.183</td>\n",
       "      <td>142</td>\n",
       "      <td>Friends are the people who let you be yourself...</td>\n",
       "      <td>Whitney Houston|Angela Bassett|Loretta Devine|...</td>\n",
       "    </tr>\n",
       "    <tr>\n",
       "      <th>4</th>\n",
       "      <td>5</td>\n",
       "      <td>Father of the Bride Part II (1995)</td>\n",
       "      <td>Comedy</td>\n",
       "      <td>113041</td>\n",
       "      <td>11862</td>\n",
       "      <td>Just when George Banks has recovered from his ...</td>\n",
       "      <td>19.558</td>\n",
       "      <td>106</td>\n",
       "      <td>6.239</td>\n",
       "      <td>665</td>\n",
       "      <td>Just when his world is back to normal... he's ...</td>\n",
       "      <td>Steve Martin|Diane Keaton|Martin Short|Kimberl...</td>\n",
       "    </tr>\n",
       "  </tbody>\n",
       "</table>\n",
       "</div>"
      ],
      "text/plain": [
       "   movieId                               title  \\\n",
       "0        1                    Toy Story (1995)   \n",
       "1        2                      Jumanji (1995)   \n",
       "2        3             Grumpier Old Men (1995)   \n",
       "3        4            Waiting to Exhale (1995)   \n",
       "4        5  Father of the Bride Part II (1995)   \n",
       "\n",
       "                                        genres  imdbId  tmdbId  \\\n",
       "0  Adventure|Animation|Children|Comedy|Fantasy  114709     862   \n",
       "1                   Adventure|Children|Fantasy  113497    8844   \n",
       "2                               Comedy|Romance  113228   15602   \n",
       "3                         Comedy|Drama|Romance  114885   31357   \n",
       "4                                       Comedy  113041   11862   \n",
       "\n",
       "                                            overview  popularity  runtime  \\\n",
       "0  Led by Woody, Andy's toys live happily in his ...     100.954       81   \n",
       "1  When siblings Judy and Peter discover an encha...      13.981      104   \n",
       "2  A family wedding reignites the ancient feud be...      12.686      101   \n",
       "3  Cheated on, mistreated and stepped on, the wom...      11.945      127   \n",
       "4  Just when George Banks has recovered from his ...      19.558      106   \n",
       "\n",
       "   vote_average  vote_count  \\\n",
       "0         7.970       17277   \n",
       "1         7.239        9891   \n",
       "2         6.494         350   \n",
       "3         6.183         142   \n",
       "4         6.239         665   \n",
       "\n",
       "                                             tagline  \\\n",
       "0  Hang on for the comedy that goes to infinity a...   \n",
       "1          Roll the dice and unleash the excitement!   \n",
       "2  Still Yelling. Still Fighting. Still Ready for...   \n",
       "3  Friends are the people who let you be yourself...   \n",
       "4  Just when his world is back to normal... he's ...   \n",
       "\n",
       "                                                cast  \n",
       "0  Tom Hanks|Tim Allen|Don Rickles|Jim Varney|Wal...  \n",
       "1  Robin Williams|Kirsten Dunst|Bradley Pierce|Bo...  \n",
       "2  Walter Matthau|Jack Lemmon|Ann-Margret|Sophia ...  \n",
       "3  Whitney Houston|Angela Bassett|Loretta Devine|...  \n",
       "4  Steve Martin|Diane Keaton|Martin Short|Kimberl...  "
      ]
     },
     "execution_count": 31,
     "metadata": {},
     "output_type": "execute_result"
    }
   ],
   "source": [
    "movies_metadata.head()"
   ]
  },
  {
   "cell_type": "code",
   "execution_count": 32,
   "id": "45a797b4",
   "metadata": {},
   "outputs": [
    {
     "name": "stdout",
     "output_type": "stream",
     "text": [
      "movieId            0\n",
      "title              0\n",
      "genres             0\n",
      "imdbId             0\n",
      "tmdbId             0\n",
      "overview           9\n",
      "popularity         0\n",
      "runtime            0\n",
      "vote_average       0\n",
      "vote_count         0\n",
      "tagline         1568\n",
      "cast              44\n",
      "dtype: int64\n"
     ]
    }
   ],
   "source": [
    "nan_counts = movies_metadata.isna().sum()\n",
    "print(nan_counts)"
   ]
  },
  {
   "cell_type": "markdown",
   "id": "81c725d3",
   "metadata": {},
   "source": [
    "Dataset looks more cleaner and concise now.\n",
    "\n",
    "## Genre based analysis\n",
    "In next steps I would like to explore genre's association with a couple of other features"
   ]
  },
  {
   "cell_type": "markdown",
   "id": "d634ed7d",
   "metadata": {},
   "source": [
    "### Bar plot based on the popularity of Genres"
   ]
  },
  {
   "cell_type": "code",
   "execution_count": 33,
   "id": "49cfdd19",
   "metadata": {},
   "outputs": [
    {
     "data": {
      "image/png": "[encoded data removed]",
      "text/plain": [
       "<Figure size 864x720 with 1 Axes>"
      ]
     },
     "metadata": {
      "needs_background": "light"
     },
     "output_type": "display_data"
    }
   ],
   "source": [
    "# Convert the genres column to a list\n",
    "df = movies_metadata.copy()\n",
    "df['genres'] = df['genres'].apply(lambda x: x.split('|'))\n",
    "\n",
    "# Create a new DataFrame with exploded genres\n",
    "df_genres = df.explode('genres')\n",
    "\n",
    "# # # Calculate the average popularity for each genre\n",
    "avg_popularity_by_genre = df_genres.groupby('genres')['popularity'].mean()\n",
    "sorted_genres = avg_popularity_by_genre.sort_values(ascending=False)\n",
    "\n",
    "# Plot the results\n",
    "sorted_genres.plot(kind='bar', color='skyblue', figsize=(12, 10))\n",
    "plt.title('Average Popularity by Genre')\n",
    "plt.xlabel('Genre')\n",
    "plt.ylabel('Average Popularity')\n",
    "plt.show()"
   ]
  },
  {
   "cell_type": "markdown",
   "id": "8f11d995",
   "metadata": {},
   "source": [
    "Above chart shows that IMAX genre is the most popular one, but in the dataset additional information, IMAX genre does not make any sense. It says, Genres are a pipe-separated list, and are selected from the following:\n",
    "\n",
    "* Action\n",
    "* Adventure\n",
    "* Animation\n",
    "* Children’s\n",
    "* Comedy\n",
    "* Crime\n",
    "* Documentary\n",
    "* Drama\n",
    "* Fantasy\n",
    "* Film-Noir\n",
    "* Horror\n",
    "* Musical\n",
    "* Mystery\n",
    "* Romance\n",
    "* Sci-Fi\n",
    "* Thriller\n",
    "* War\n",
    "* Western\n",
    "* (no genres listed)\n",
    "\n",
    "This gives me idea that I can simply remove IMAX from the genre column where values are | separated"
   ]
  },
  {
   "cell_type": "code",
   "execution_count": 34,
   "id": "4754ff93",
   "metadata": {},
   "outputs": [
    {
     "name": "stdout",
     "output_type": "stream",
     "text": [
      "unique movie genres:  ['Adventure' 'Animation' 'Children' 'Comedy' 'Fantasy' 'Romance' 'Drama'\n",
      " 'Action' 'Crime' 'Thriller' 'Horror' 'Mystery' 'Sci-Fi' 'War' 'Musical'\n",
      " 'Documentary' 'Western' 'Film-Noir' '(no genres listed)']\n"
     ]
    }
   ],
   "source": [
    "# Remove \"IMAX\" from all rows in the \"genres\" column\n",
    "movies_metadata['genres'] = movies_metadata['genres'].apply(lambda x: '|'.join(filter(lambda genre: genre != 'IMAX', x.split('|'))))\n",
    "\n",
    "# df = movies_metadata.copy()\n",
    "movies_metadata['genres'] = movies_metadata['genres'].apply(lambda x: x.split('|'))\n",
    "\n",
    "# Create a new DataFrame with exploded genres\n",
    "df_genres = movies_metadata.explode('genres')\n",
    "\n",
    "print(\"unique movie genres: \", df_genres['genres'].unique())\n"
   ]
  },
  {
   "cell_type": "code",
   "execution_count": 35,
   "id": "30f0f894",
   "metadata": {},
   "outputs": [
    {
     "data": {
      "image/png": "[encoded data removed]",
      "text/plain": [
       "<Figure size 864x720 with 1 Axes>"
      ]
     },
     "metadata": {
      "needs_background": "light"
     },
     "output_type": "display_data"
    }
   ],
   "source": [
    "avg_popularity_by_genre = df_genres.groupby('genres')['popularity'].mean()\n",
    "sorted_genres = avg_popularity_by_genre.sort_values(ascending=False)\n",
    "\n",
    "# Plot the results\n",
    "sorted_genres.plot(kind='bar', color='skyblue', figsize=(12, 10))\n",
    "plt.title('Average Popularity by Genre')\n",
    "plt.xlabel('Genre')\n",
    "plt.ylabel('Average Popularity')\n",
    "plt.show()"
   ]
  },
  {
   "cell_type": "code",
   "execution_count": 36,
   "id": "070688b4",
   "metadata": {},
   "outputs": [
    {
     "name": "stdout",
     "output_type": "stream",
     "text": [
      "Top 5 most popular genres: \n",
      "\n",
      "genres\n",
      "Adventure    28.979274\n",
      "Animation    28.327928\n",
      "Fantasy      27.174074\n",
      "Children     26.935398\n",
      "Action       26.179208\n",
      "Name: popularity, dtype: float64\n"
     ]
    }
   ],
   "source": [
    "# Get the top 5 popular genres\n",
    "top_5_genres = sorted_genres.head(5)\n",
    "print(\"Top 5 most popular genres: \\n\")\n",
    "print(top_5_genres)"
   ]
  },
  {
   "cell_type": "markdown",
   "id": "79716549",
   "metadata": {},
   "source": [
    "#### MOST POPULAR GENRES\n",
    "Top 5 popular Genres after doing analysis are,\n",
    "1. Adventure\n",
    "2. Animation\n",
    "3. Fantasy\n",
    "4. Children\n",
    "5. Action\n",
    "\n",
    "And most unpopular Genre is `Documentary` "
   ]
  },
  {
   "cell_type": "markdown",
   "id": "335a2283",
   "metadata": {},
   "source": [
    "### Number of movies per genre barplot"
   ]
  },
  {
   "cell_type": "code",
   "execution_count": 37,
   "id": "f63a773d",
   "metadata": {},
   "outputs": [],
   "source": [
    "# Extract unique genres and their counts\n",
    "genre_counts = (\n",
    "    movies_metadata['genres']\n",
    "    .explode()\n",
    "    .value_counts()\n",
    "    .to_frame()\n",
    "    .reset_index()\n",
    ")\n",
    "genre_counts.columns = ['genre', 'count']"
   ]
  },
  {
   "cell_type": "code",
   "execution_count": 38,
   "id": "8f97bf4e",
   "metadata": {},
   "outputs": [
    {
     "data": {
      "image/png": "[encoded data removed]",
      "text/plain": [
       "<Figure size 432x288 with 1 Axes>"
      ]
     },
     "metadata": {
      "needs_background": "light"
     },
     "output_type": "display_data"
    }
   ],
   "source": [
    "# Inset bar plot for number of genres\n",
    "ax2 = plt.axes([1, 0.5, 0.8, 1.5])  # [left, bottom, width, height]\n",
    "sns.barplot(x='count', y='genre', data=genre_counts, color='orange', ax=ax2)\n",
    "ax2.set_xlabel('Number of Movies')\n",
    "ax2.set_ylabel('Genre')\n",
    "plt.show()"
   ]
  },
  {
   "cell_type": "markdown",
   "id": "e7f8bdd5",
   "metadata": {},
   "source": [
    "#### Exploration of numerical columns \n",
    "\n",
    "There are four numerical columns I am interested to know more with respect to Genre, as I know none of these column has a NaN value, I would like to see, mean, max, and min value for each of these columns\n",
    "\n",
    "1. Popularity\n",
    "2. runtime\n",
    "3. vote_average\n",
    "4. vote_count\n",
    "\n",
    "I would like to use pandas describe method for this"
   ]
  },
  {
   "cell_type": "code",
   "execution_count": 39,
   "id": "e3a21639",
   "metadata": {},
   "outputs": [],
   "source": [
    "movies_metadata_numeric_data = movies_metadata[['popularity','runtime', 'vote_average', 'vote_count']]"
   ]
  },
  {
   "cell_type": "code",
   "execution_count": 40,
   "id": "ab51f759",
   "metadata": {},
   "outputs": [
    {
     "data": {
      "text/html": [
       "<div>\n",
       "<style scoped>\n",
       "    .dataframe tbody tr th:only-of-type {\n",
       "        vertical-align: middle;\n",
       "    }\n",
       "\n",
       "    .dataframe tbody tr th {\n",
       "        vertical-align: top;\n",
       "    }\n",
       "\n",
       "    .dataframe thead th {\n",
       "        text-align: right;\n",
       "    }\n",
       "</style>\n",
       "<table border=\"1\" class=\"dataframe\">\n",
       "  <thead>\n",
       "    <tr style=\"text-align: right;\">\n",
       "      <th></th>\n",
       "      <th>popularity</th>\n",
       "      <th>runtime</th>\n",
       "      <th>vote_average</th>\n",
       "      <th>vote_count</th>\n",
       "    </tr>\n",
       "  </thead>\n",
       "  <tbody>\n",
       "    <tr>\n",
       "      <th>count</th>\n",
       "      <td>9619.000000</td>\n",
       "      <td>9619.000000</td>\n",
       "      <td>9619.000000</td>\n",
       "      <td>9619.000000</td>\n",
       "    </tr>\n",
       "    <tr>\n",
       "      <th>mean</th>\n",
       "      <td>17.823707</td>\n",
       "      <td>104.337665</td>\n",
       "      <td>6.511115</td>\n",
       "      <td>1462.350244</td>\n",
       "    </tr>\n",
       "    <tr>\n",
       "      <th>std</th>\n",
       "      <td>17.638178</td>\n",
       "      <td>24.451975</td>\n",
       "      <td>0.866306</td>\n",
       "      <td>2923.100811</td>\n",
       "    </tr>\n",
       "    <tr>\n",
       "      <th>min</th>\n",
       "      <td>0.600000</td>\n",
       "      <td>2.000000</td>\n",
       "      <td>0.000000</td>\n",
       "      <td>0.000000</td>\n",
       "    </tr>\n",
       "    <tr>\n",
       "      <th>25%</th>\n",
       "      <td>8.769000</td>\n",
       "      <td>92.000000</td>\n",
       "      <td>6.000000</td>\n",
       "      <td>128.000000</td>\n",
       "    </tr>\n",
       "    <tr>\n",
       "      <th>50%</th>\n",
       "      <td>13.506000</td>\n",
       "      <td>102.000000</td>\n",
       "      <td>6.564000</td>\n",
       "      <td>410.000000</td>\n",
       "    </tr>\n",
       "    <tr>\n",
       "      <th>75%</th>\n",
       "      <td>21.085000</td>\n",
       "      <td>115.000000</td>\n",
       "      <td>7.115000</td>\n",
       "      <td>1374.500000</td>\n",
       "    </tr>\n",
       "    <tr>\n",
       "      <th>max</th>\n",
       "      <td>679.514000</td>\n",
       "      <td>583.000000</td>\n",
       "      <td>8.917000</td>\n",
       "      <td>34704.000000</td>\n",
       "    </tr>\n",
       "  </tbody>\n",
       "</table>\n",
       "</div>"
      ],
      "text/plain": [
       "        popularity      runtime  vote_average    vote_count\n",
       "count  9619.000000  9619.000000   9619.000000   9619.000000\n",
       "mean     17.823707   104.337665      6.511115   1462.350244\n",
       "std      17.638178    24.451975      0.866306   2923.100811\n",
       "min       0.600000     2.000000      0.000000      0.000000\n",
       "25%       8.769000    92.000000      6.000000    128.000000\n",
       "50%      13.506000   102.000000      6.564000    410.000000\n",
       "75%      21.085000   115.000000      7.115000   1374.500000\n",
       "max     679.514000   583.000000      8.917000  34704.000000"
      ]
     },
     "execution_count": 40,
     "metadata": {},
     "output_type": "execute_result"
    }
   ],
   "source": [
    "movies_metadata_numeric_data.describe()"
   ]
  },
  {
   "cell_type": "markdown",
   "id": "6399d03e",
   "metadata": {},
   "source": [
    "Nice statistics, let me now explore all the genres where `vote_count` is greater then the mean vote_count value and I will then plot top 2 movies from each genre"
   ]
  },
  {
   "cell_type": "markdown",
   "id": "6ddd8e26",
   "metadata": {},
   "source": [
    "### Barplot of each genre by vote_average\n",
    "\n",
    "I am excluding two genres '(no genres listed)', 'Film-Noir' as not much movies are there in these two genres"
   ]
  },
  {
   "cell_type": "code",
   "execution_count": 41,
   "id": "ae023d87",
   "metadata": {},
   "outputs": [
    {
     "data": {
      "image/png": "[encoded data removed]",
      "text/plain": [
       "<Figure size 216x144 with 1 Axes>"
      ]
     },
     "metadata": {
      "needs_background": "light"
     },
     "output_type": "display_data"
    },
    {
     "data": {
      "image/png": "[encoded data removed]",
      "text/plain": [
       "<Figure size 216x144 with 1 Axes>"
      ]
     },
     "metadata": {
      "needs_background": "light"
     },
     "output_type": "display_data"
    },
    {
     "data": {
      "image/png": "[encoded data removed]",
      "text/plain": [
       "<Figure size 216x144 with 1 Axes>"
      ]
     },
     "metadata": {
      "needs_background": "light"
     },
     "output_type": "display_data"
    },
    {
     "data": {
      "image/png": "[encoded data removed]",
      "text/plain": [
       "<Figure size 216x144 with 1 Axes>"
      ]
     },
     "metadata": {
      "needs_background": "light"
     },
     "output_type": "display_data"
    },
    {
     "data": {
      "image/png": "[encoded data removed]",
      "text/plain": [
       "<Figure size 216x144 with 1 Axes>"
      ]
     },
     "metadata": {
      "needs_background": "light"
     },
     "output_type": "display_data"
    },
    {
     "data": {
      "image/png": "[encoded data removed]",
      "text/plain": [
       "<Figure size 216x144 with 1 Axes>"
      ]
     },
     "metadata": {
      "needs_background": "light"
     },
     "output_type": "display_data"
    },
    {
     "data": {
      "image/png": "[encoded data removed]",
      "text/plain": [
       "<Figure size 216x144 with 1 Axes>"
      ]
     },
     "metadata": {
      "needs_background": "light"
     },
     "output_type": "display_data"
    },
    {
     "data": {
      "image/png": "[encoded data removed]",
      "text/plain": [
       "<Figure size 216x144 with 1 Axes>"
      ]
     },
     "metadata": {
      "needs_background": "light"
     },
     "output_type": "display_data"
    },
    {
     "data": {
      "image/png": "[encoded data removed]",
      "text/plain": [
       "<Figure size 216x144 with 1 Axes>"
      ]
     },
     "metadata": {
      "needs_background": "light"
     },
     "output_type": "display_data"
    },
    {
     "data": {
      "image/png": "[encoded data removed]",
      "text/plain": [
       "<Figure size 216x144 with 1 Axes>"
      ]
     },
     "metadata": {
      "needs_background": "light"
     },
     "output_type": "display_data"
    },
    {
     "data": {
      "image/png": "[encoded data removed]",
      "text/plain": [
       "<Figure size 216x144 with 1 Axes>"
      ]
     },
     "metadata": {
      "needs_background": "light"
     },
     "output_type": "display_data"
    },
    {
     "data": {
      "image/png": "[encoded data removed]",
      "text/plain": [
       "<Figure size 216x144 with 1 Axes>"
      ]
     },
     "metadata": {
      "needs_background": "light"
     },
     "output_type": "display_data"
    },
    {
     "data": {
      "image/png": "[encoded data removed]",
      "text/plain": [
       "<Figure size 216x144 with 1 Axes>"
      ]
     },
     "metadata": {
      "needs_background": "light"
     },
     "output_type": "display_data"
    },
    {
     "data": {
      "image/png": "[encoded data removed]",
      "text/plain": [
       "<Figure size 216x144 with 1 Axes>"
      ]
     },
     "metadata": {
      "needs_background": "light"
     },
     "output_type": "display_data"
    },
    {
     "data": {
      "image/png": "[encoded data removed]",
      "text/plain": [
       "<Figure size 216x144 with 1 Axes>"
      ]
     },
     "metadata": {
      "needs_background": "light"
     },
     "output_type": "display_data"
    },
    {
     "data": {
      "image/png": "[encoded data removed]",
      "text/plain": [
       "<Figure size 216x144 with 1 Axes>"
      ]
     },
     "metadata": {
      "needs_background": "light"
     },
     "output_type": "display_data"
    },
    {
     "data": {
      "image/png": "[encoded data removed]",
      "text/plain": [
       "<Figure size 216x144 with 1 Axes>"
      ]
     },
     "metadata": {
      "needs_background": "light"
     },
     "output_type": "display_data"
    }
   ],
   "source": [
    "filtered_movies = df_genres[df_genres['vote_count'] >= 1462]\n",
    "filtered_movies = filtered_movies[~filtered_movies['genres'].isin(['(no genres listed)', 'Film-Noir'])]\n",
    "\n",
    "# Group by genre, sort within each group by vote_average, and select the top 2 for each genre\n",
    "top_movies_by_genre = filtered_movies.groupby('genres').apply(lambda x: x.nlargest(2, 'vote_average')).reset_index(drop=True)\n",
    "\n",
    "# Create separate bar plots for each genre\n",
    "for genre, data in top_movies_by_genre.groupby('genres'):\n",
    "    plt.figure(figsize=(3, 2))\n",
    "    sns.barplot(x='vote_average', y='title', data=data, errorbar=None)\n",
    "    plt.xlabel('Vote Average')\n",
    "    plt.ylabel('')\n",
    "    plt.title(f'Top 2 Highest Rated Movies in {genre} (Votes >= 1462)')\n",
    "    plt.show()"
   ]
  },
  {
   "cell_type": "markdown",
   "id": "cd5a00ee",
   "metadata": {},
   "source": [
    "### Bar plot based on the average vote for each Genres"
   ]
  },
  {
   "cell_type": "code",
   "execution_count": 42,
   "id": "0fb52627",
   "metadata": {},
   "outputs": [
    {
     "data": {
      "image/png": "[encoded data removed]",
      "text/plain": [
       "<Figure size 864x720 with 1 Axes>"
      ]
     },
     "metadata": {
      "needs_background": "light"
     },
     "output_type": "display_data"
    }
   ],
   "source": [
    "# Convert the genres column to a list\n",
    "# # # Calculate the average popularity for each genre\n",
    "filtered_movies = filtered_movies[~filtered_movies['genres'].isin(['(no genres listed)', 'Film-Noir'])]\n",
    "avg_vote_count_by_genre = filtered_movies.groupby('genres')['vote_average'].mean()\n",
    "sorted_genres = avg_vote_count_by_genre.sort_values(ascending=False)\n",
    "\n",
    "# Plot the results\n",
    "sorted_genres.plot(kind='bar', color='pink', figsize=(12, 10))\n",
    "plt.title('vote_average by Genre')\n",
    "plt.xlabel('Genre')\n",
    "plt.ylabel('vote_average')\n",
    "plt.show()"
   ]
  },
  {
   "cell_type": "markdown",
   "id": "af3902e2",
   "metadata": {},
   "source": [
    "Looks like almost all the genres were voted equally"
   ]
  },
  {
   "cell_type": "markdown",
   "id": "f4472635",
   "metadata": {},
   "source": [
    "## Genre-based recommendation\n",
    "\n",
    "To create a genre-based recommendation system, I am going to use using two dataframes (`movies_metadata` and `ratings`), `ratings` and `movies_metadata` dataframe can be joined to understand what kind of specific Genre a person would have admired the most\n",
    "\n",
    "1. Data Preprocessing:\n",
    "\n",
    "    * I will merge the two dataframes based on the movieId to create a unified dataframe.\n",
    "    * Extract relevant information such as movie titles, genres, userId, ratings.\n",
    "\n",
    "2. Genre-Based Recommendations:\n",
    "\n",
    "    * I will calculate the average rating given by the user for each genre.\n",
    "    * will identify genres that the user has liked based on their ratings.\n",
    "    * Filter movies that a user haven't yet and\n",
    "\n",
    "3. Recommendation Generation:\n",
    "\n",
    "    * Recommend movies from genres that the user has liked, considering high average ratings."
   ]
  },
  {
   "cell_type": "code",
   "execution_count": 43,
   "id": "8af51e5a",
   "metadata": {},
   "outputs": [
    {
     "data": {
      "text/html": [
       "<div>\n",
       "<style scoped>\n",
       "    .dataframe tbody tr th:only-of-type {\n",
       "        vertical-align: middle;\n",
       "    }\n",
       "\n",
       "    .dataframe tbody tr th {\n",
       "        vertical-align: top;\n",
       "    }\n",
       "\n",
       "    .dataframe thead th {\n",
       "        text-align: right;\n",
       "    }\n",
       "</style>\n",
       "<table border=\"1\" class=\"dataframe\">\n",
       "  <thead>\n",
       "    <tr style=\"text-align: right;\">\n",
       "      <th></th>\n",
       "      <th>movieId</th>\n",
       "      <th>title</th>\n",
       "      <th>genres</th>\n",
       "      <th>imdbId</th>\n",
       "      <th>tmdbId</th>\n",
       "      <th>overview</th>\n",
       "      <th>popularity</th>\n",
       "      <th>runtime</th>\n",
       "      <th>vote_average</th>\n",
       "      <th>vote_count</th>\n",
       "      <th>tagline</th>\n",
       "      <th>cast</th>\n",
       "    </tr>\n",
       "  </thead>\n",
       "  <tbody>\n",
       "    <tr>\n",
       "      <th>0</th>\n",
       "      <td>1</td>\n",
       "      <td>Toy Story (1995)</td>\n",
       "      <td>[Adventure, Animation, Children, Comedy, Fantasy]</td>\n",
       "      <td>114709</td>\n",
       "      <td>862</td>\n",
       "      <td>Led by Woody, Andy's toys live happily in his ...</td>\n",
       "      <td>100.954</td>\n",
       "      <td>81</td>\n",
       "      <td>7.970</td>\n",
       "      <td>17277</td>\n",
       "      <td>Hang on for the comedy that goes to infinity a...</td>\n",
       "      <td>Tom Hanks|Tim Allen|Don Rickles|Jim Varney|Wal...</td>\n",
       "    </tr>\n",
       "    <tr>\n",
       "      <th>1</th>\n",
       "      <td>2</td>\n",
       "      <td>Jumanji (1995)</td>\n",
       "      <td>[Adventure, Children, Fantasy]</td>\n",
       "      <td>113497</td>\n",
       "      <td>8844</td>\n",
       "      <td>When siblings Judy and Peter discover an encha...</td>\n",
       "      <td>13.981</td>\n",
       "      <td>104</td>\n",
       "      <td>7.239</td>\n",
       "      <td>9891</td>\n",
       "      <td>Roll the dice and unleash the excitement!</td>\n",
       "      <td>Robin Williams|Kirsten Dunst|Bradley Pierce|Bo...</td>\n",
       "    </tr>\n",
       "    <tr>\n",
       "      <th>2</th>\n",
       "      <td>3</td>\n",
       "      <td>Grumpier Old Men (1995)</td>\n",
       "      <td>[Comedy, Romance]</td>\n",
       "      <td>113228</td>\n",
       "      <td>15602</td>\n",
       "      <td>A family wedding reignites the ancient feud be...</td>\n",
       "      <td>12.686</td>\n",
       "      <td>101</td>\n",
       "      <td>6.494</td>\n",
       "      <td>350</td>\n",
       "      <td>Still Yelling. Still Fighting. Still Ready for...</td>\n",
       "      <td>Walter Matthau|Jack Lemmon|Ann-Margret|Sophia ...</td>\n",
       "    </tr>\n",
       "    <tr>\n",
       "      <th>3</th>\n",
       "      <td>4</td>\n",
       "      <td>Waiting to Exhale (1995)</td>\n",
       "      <td>[Comedy, Drama, Romance]</td>\n",
       "      <td>114885</td>\n",
       "      <td>31357</td>\n",
       "      <td>Cheated on, mistreated and stepped on, the wom...</td>\n",
       "      <td>11.945</td>\n",
       "      <td>127</td>\n",
       "      <td>6.183</td>\n",
       "      <td>142</td>\n",
       "      <td>Friends are the people who let you be yourself...</td>\n",
       "      <td>Whitney Houston|Angela Bassett|Loretta Devine|...</td>\n",
       "    </tr>\n",
       "    <tr>\n",
       "      <th>4</th>\n",
       "      <td>5</td>\n",
       "      <td>Father of the Bride Part II (1995)</td>\n",
       "      <td>[Comedy]</td>\n",
       "      <td>113041</td>\n",
       "      <td>11862</td>\n",
       "      <td>Just when George Banks has recovered from his ...</td>\n",
       "      <td>19.558</td>\n",
       "      <td>106</td>\n",
       "      <td>6.239</td>\n",
       "      <td>665</td>\n",
       "      <td>Just when his world is back to normal... he's ...</td>\n",
       "      <td>Steve Martin|Diane Keaton|Martin Short|Kimberl...</td>\n",
       "    </tr>\n",
       "  </tbody>\n",
       "</table>\n",
       "</div>"
      ],
      "text/plain": [
       "   movieId                               title  \\\n",
       "0        1                    Toy Story (1995)   \n",
       "1        2                      Jumanji (1995)   \n",
       "2        3             Grumpier Old Men (1995)   \n",
       "3        4            Waiting to Exhale (1995)   \n",
       "4        5  Father of the Bride Part II (1995)   \n",
       "\n",
       "                                              genres  imdbId  tmdbId  \\\n",
       "0  [Adventure, Animation, Children, Comedy, Fantasy]  114709     862   \n",
       "1                     [Adventure, Children, Fantasy]  113497    8844   \n",
       "2                                  [Comedy, Romance]  113228   15602   \n",
       "3                           [Comedy, Drama, Romance]  114885   31357   \n",
       "4                                           [Comedy]  113041   11862   \n",
       "\n",
       "                                            overview  popularity  runtime  \\\n",
       "0  Led by Woody, Andy's toys live happily in his ...     100.954       81   \n",
       "1  When siblings Judy and Peter discover an encha...      13.981      104   \n",
       "2  A family wedding reignites the ancient feud be...      12.686      101   \n",
       "3  Cheated on, mistreated and stepped on, the wom...      11.945      127   \n",
       "4  Just when George Banks has recovered from his ...      19.558      106   \n",
       "\n",
       "   vote_average  vote_count  \\\n",
       "0         7.970       17277   \n",
       "1         7.239        9891   \n",
       "2         6.494         350   \n",
       "3         6.183         142   \n",
       "4         6.239         665   \n",
       "\n",
       "                                             tagline  \\\n",
       "0  Hang on for the comedy that goes to infinity a...   \n",
       "1          Roll the dice and unleash the excitement!   \n",
       "2  Still Yelling. Still Fighting. Still Ready for...   \n",
       "3  Friends are the people who let you be yourself...   \n",
       "4  Just when his world is back to normal... he's ...   \n",
       "\n",
       "                                                cast  \n",
       "0  Tom Hanks|Tim Allen|Don Rickles|Jim Varney|Wal...  \n",
       "1  Robin Williams|Kirsten Dunst|Bradley Pierce|Bo...  \n",
       "2  Walter Matthau|Jack Lemmon|Ann-Margret|Sophia ...  \n",
       "3  Whitney Houston|Angela Bassett|Loretta Devine|...  \n",
       "4  Steve Martin|Diane Keaton|Martin Short|Kimberl...  "
      ]
     },
     "execution_count": 43,
     "metadata": {},
     "output_type": "execute_result"
    }
   ],
   "source": [
    "movies_metadata.head()"
   ]
  },
  {
   "cell_type": "markdown",
   "id": "a3eeee4f",
   "metadata": {},
   "source": [
    "### Merge two dataframes\n",
    "\n",
    "After merging I will be try to get what is the minimum and max value in userId, movieId and rating column"
   ]
  },
  {
   "cell_type": "code",
   "execution_count": 44,
   "id": "8a3c9f56",
   "metadata": {},
   "outputs": [],
   "source": [
    "ratings_movies = pd.merge(ratings, movies_metadata[['movieId', 'title', 'genres']], on='movieId')"
   ]
  },
  {
   "cell_type": "code",
   "execution_count": 45,
   "id": "59d081af",
   "metadata": {},
   "outputs": [
    {
     "name": "stdout",
     "output_type": "stream",
     "text": [
      "userId     1.0\n",
      "movieId    1.0\n",
      "rating     0.5\n",
      "dtype: float64\n"
     ]
    }
   ],
   "source": [
    "minValuesObj = ratings_movies[['userId', 'movieId', 'rating']].min()\n",
    "print(minValuesObj)"
   ]
  },
  {
   "cell_type": "code",
   "execution_count": 46,
   "id": "fffd5e3d",
   "metadata": {},
   "outputs": [
    {
     "name": "stdout",
     "output_type": "stream",
     "text": [
      "userId        610.0\n",
      "movieId    193609.0\n",
      "rating          5.0\n",
      "dtype: float64\n"
     ]
    }
   ],
   "source": [
    "maxValuesObj = ratings_movies[['userId', 'movieId', 'rating']].max()\n",
    "print(maxValuesObj)"
   ]
  },
  {
   "cell_type": "markdown",
   "id": "c4489ed9",
   "metadata": {},
   "source": [
    "### Data visualization\n",
    "\n",
    "I will plot a bar graph that can show what is the total number of count a movie is being rating between 0.5-5 \n"
   ]
  },
  {
   "cell_type": "code",
   "execution_count": 47,
   "id": "a2f9ee5f",
   "metadata": {},
   "outputs": [
    {
     "data": {
      "image/png": "[encoded data removed]",
      "text/plain": [
       "<Figure size 1152x864 with 1 Axes>"
      ]
     },
     "metadata": {
      "needs_background": "light"
     },
     "output_type": "display_data"
    }
   ],
   "source": [
    "# Count the frequency of each rating\n",
    "rating_counts = ratings_movies['rating'].value_counts(sort=False)\n",
    "\n",
    "# Plotting the bar chart\n",
    "rating_counts.plot(kind='bar', figsize=(16, 12), use_index=True, rot=0)\n",
    "plt.title('Bar plot of rating frequency')\n",
    "plt.xlabel('Rating')\n",
    "plt.ylabel('Number of times a rating was given')\n",
    "\n",
    "# Adding labels to the bars\n",
    "for i, v in enumerate(rating_counts):\n",
    "    plt.text(i , v + 500, str(v), size=15)\n",
    "\n",
    "plt.show()"
   ]
  },
  {
   "cell_type": "markdown",
   "id": "ca1c982c",
   "metadata": {},
   "source": [
    "The above bar graph gives me an idea,\n",
    "1. most frequent ratings are in either 4 or 3, \n",
    "2. frequency of getting movie rating 3.5 and 5.0 is almost similar\n",
    "3. Very few chances are there for someone to rate a movie 0.5 or 1.5 or even 1.0\n"
   ]
  },
  {
   "cell_type": "code",
   "execution_count": 48,
   "id": "8d5a7875",
   "metadata": {},
   "outputs": [],
   "source": [
    "def genre_based_recommendation(user_id): \n",
    "\n",
    "    # Step 1: Filter movies not seen by the user\n",
    "    user_movies = ratings_movies[ratings_movies['userId'] == user_id]['title']\n",
    "    movies_not_seen = ratings_movies[~ratings_movies['title'].isin(user_movies)]\n",
    "\n",
    "\n",
    "    movie_genres = movies_not_seen.explode('genres')\n",
    "\n",
    "\n",
    "    # Step 2: Calculate average ratings for each genre\n",
    "    genre_ratings = movie_genres.groupby('genres')['rating'].mean().reset_index()\n",
    "    \n",
    "    # Step 3: Identify user's liked genres \n",
    "    \"\"\"\n",
    "    I did analysis and found that mostly all the genres were rated euqally, and rating range was 3-4  \n",
    "    so I decided to take rating threshold value as 3.5\n",
    "    \"\"\"\n",
    "    user_liked_genres = genre_ratings[genre_ratings['rating'] >= 3.5]['genres']\n",
    "\n",
    "    # print(user_liked_genres)\n",
    "    # Step 4: Filter movies from liked genres\n",
    "    liked_movies = movie_genres[movie_genres['genres'].isin(user_liked_genres)]\n",
    "\n",
    "\n",
    "    # Step 5: Sort by ratings (descending order)\n",
    "    liked_movies_sorted = liked_movies.groupby('title')['rating'].mean().sort_values(ascending=False).reset_index()\n",
    "\n",
    "    # Step 6: Recommend top movies\n",
    "    top_recommendations = liked_movies_sorted.head(5)\n",
    "    \n",
    "    return top_recommendations\n"
   ]
  },
  {
   "cell_type": "markdown",
   "id": "dd9a61fb",
   "metadata": {},
   "source": [
    "Let's invoke the function `genre_based_recommendation` with randomly generated user_ids"
   ]
  },
  {
   "cell_type": "code",
   "execution_count": 49,
   "id": "96bd03e2",
   "metadata": {},
   "outputs": [
    {
     "name": "stdout",
     "output_type": "stream",
     "text": [
      "Top 5 movie Recommendations for User 608: \n",
      "                                      title  rating\n",
      "0                             Hype! (1996)     5.0\n",
      "1                    Brother (Brat) (1997)     5.0\n",
      "2         Won't You Be My Neighbor? (2018)     5.0\n",
      "3                Down Argentine Way (1940)     5.0\n",
      "4  Craig Ferguson: I'm Here To Help (2013)     5.0\n"
     ]
    }
   ],
   "source": [
    "import random\n",
    "\n",
    "user_id = random.randint(1, 610)\n",
    "\n",
    "print(f\"Top 5 movie Recommendations for User {user_id}: \\n\", genre_based_recommendation(user_id))\n",
    "\n"
   ]
  },
  {
   "cell_type": "markdown",
   "id": "451276f8",
   "metadata": {},
   "source": [
    "## Movie Cast based Analysis\n",
    "\n",
    "1. Next, I am displaying the top 10 movies with the highest `vote_average` that received at least mean votes meaning `vote_count > 1462`.\n",
    "\n",
    "2. I will again use `movies_metadata` dataframe and this time I will plot some bar graphs based on the cast of the movies\n"
   ]
  },
  {
   "cell_type": "code",
   "execution_count": 50,
   "id": "9921f3cb",
   "metadata": {},
   "outputs": [
    {
     "data": {
      "image/png": "[encoded data removed]",
      "text/plain": [
       "<Figure size 720x576 with 1 Axes>"
      ]
     },
     "metadata": {
      "needs_background": "light"
     },
     "output_type": "display_data"
    }
   ],
   "source": [
    "# Filter movies with vote_count greater than 250\n",
    "filtered_movies = movies_metadata[movies_metadata['vote_count'] > 1462]\n",
    "\n",
    "# Select the top 20 movies based on vote_average\n",
    "top_movies = filtered_movies.nlargest(10, 'vote_average')\n",
    "\n",
    "# Plot the results using seaborn\n",
    "plt.figure(figsize=(10, 8))\n",
    "sns.barplot(x='vote_count', y='title', hue='title', data=top_movies, palette='Blues', dodge=False, legend=False)\n",
    "plt.title('Top 10 Movies by Vote Average')\n",
    "plt.xlabel('Voting Average')\n",
    "plt.ylabel('')\n",
    "plt.xlim(0, 10)\n",
    "\n",
    "# Annotate with vote_average values\n",
    "for index, value in enumerate(top_movies['vote_average']):\n",
    "    plt.text(value, index, f'{value:.2f}', va='center', fontsize=10, color='black', ha='left')\n",
    "\n",
    "# Annotate with vote_count values\n",
    "for index, value in enumerate(top_movies['vote_count']):\n",
    "    plt.text(0.4, index, f'Vote Count: {value}', va='center', fontsize=10, color='black')\n",
    "\n",
    "plt.show()\n",
    "\n"
   ]
  },
  {
   "cell_type": "markdown",
   "id": "095f2121",
   "metadata": {},
   "source": [
    "### Plots based on the cast of the movie"
   ]
  },
  {
   "cell_type": "code",
   "execution_count": 51,
   "id": "5b462c4e",
   "metadata": {},
   "outputs": [],
   "source": [
    "df = movies_metadata.copy()\n",
    "\n",
    "df.dropna(subset=['cast'], inplace=True)"
   ]
  },
  {
   "cell_type": "code",
   "execution_count": 52,
   "id": "71184ce0",
   "metadata": {},
   "outputs": [],
   "source": [
    "df['cast'] = df['cast'].str.split('|')\n",
    "\n",
    "movies_metadata = df.copy()\n",
    "\n",
    "def clean_cast(cast_list):\n",
    "    cleaned_cast = []\n",
    "    for name in cast_list:\n",
    "        cleaned_name = ''.join(char for char in name if char.isalpha() or char.isspace())\n",
    "        cleaned_cast.append(cleaned_name.strip())\n",
    "    return cleaned_cast\n",
    "\n",
    "# Apply the clean_cast function to each element in the 'cast' column\n",
    "df['cast'] = df['cast'].apply(clean_cast)\n"
   ]
  },
  {
   "cell_type": "code",
   "execution_count": 53,
   "id": "8850df1f",
   "metadata": {},
   "outputs": [
    {
     "data": {
      "text/html": [
       "<div>\n",
       "<style scoped>\n",
       "    .dataframe tbody tr th:only-of-type {\n",
       "        vertical-align: middle;\n",
       "    }\n",
       "\n",
       "    .dataframe tbody tr th {\n",
       "        vertical-align: top;\n",
       "    }\n",
       "\n",
       "    .dataframe thead th {\n",
       "        text-align: right;\n",
       "    }\n",
       "</style>\n",
       "<table border=\"1\" class=\"dataframe\">\n",
       "  <thead>\n",
       "    <tr style=\"text-align: right;\">\n",
       "      <th></th>\n",
       "      <th>movieId</th>\n",
       "      <th>title</th>\n",
       "      <th>genres</th>\n",
       "      <th>imdbId</th>\n",
       "      <th>tmdbId</th>\n",
       "      <th>overview</th>\n",
       "      <th>popularity</th>\n",
       "      <th>runtime</th>\n",
       "      <th>vote_average</th>\n",
       "      <th>vote_count</th>\n",
       "      <th>tagline</th>\n",
       "      <th>cast</th>\n",
       "    </tr>\n",
       "  </thead>\n",
       "  <tbody>\n",
       "    <tr>\n",
       "      <th>0</th>\n",
       "      <td>1</td>\n",
       "      <td>Toy Story (1995)</td>\n",
       "      <td>[Adventure, Animation, Children, Comedy, Fantasy]</td>\n",
       "      <td>114709</td>\n",
       "      <td>862</td>\n",
       "      <td>Led by Woody, Andy's toys live happily in his ...</td>\n",
       "      <td>100.954</td>\n",
       "      <td>81</td>\n",
       "      <td>7.97</td>\n",
       "      <td>17277</td>\n",
       "      <td>Hang on for the comedy that goes to infinity a...</td>\n",
       "      <td>Tom Hanks</td>\n",
       "    </tr>\n",
       "    <tr>\n",
       "      <th>1</th>\n",
       "      <td>1</td>\n",
       "      <td>Toy Story (1995)</td>\n",
       "      <td>[Adventure, Animation, Children, Comedy, Fantasy]</td>\n",
       "      <td>114709</td>\n",
       "      <td>862</td>\n",
       "      <td>Led by Woody, Andy's toys live happily in his ...</td>\n",
       "      <td>100.954</td>\n",
       "      <td>81</td>\n",
       "      <td>7.97</td>\n",
       "      <td>17277</td>\n",
       "      <td>Hang on for the comedy that goes to infinity a...</td>\n",
       "      <td>Tim Allen</td>\n",
       "    </tr>\n",
       "    <tr>\n",
       "      <th>2</th>\n",
       "      <td>1</td>\n",
       "      <td>Toy Story (1995)</td>\n",
       "      <td>[Adventure, Animation, Children, Comedy, Fantasy]</td>\n",
       "      <td>114709</td>\n",
       "      <td>862</td>\n",
       "      <td>Led by Woody, Andy's toys live happily in his ...</td>\n",
       "      <td>100.954</td>\n",
       "      <td>81</td>\n",
       "      <td>7.97</td>\n",
       "      <td>17277</td>\n",
       "      <td>Hang on for the comedy that goes to infinity a...</td>\n",
       "      <td>Don Rickles</td>\n",
       "    </tr>\n",
       "    <tr>\n",
       "      <th>3</th>\n",
       "      <td>1</td>\n",
       "      <td>Toy Story (1995)</td>\n",
       "      <td>[Adventure, Animation, Children, Comedy, Fantasy]</td>\n",
       "      <td>114709</td>\n",
       "      <td>862</td>\n",
       "      <td>Led by Woody, Andy's toys live happily in his ...</td>\n",
       "      <td>100.954</td>\n",
       "      <td>81</td>\n",
       "      <td>7.97</td>\n",
       "      <td>17277</td>\n",
       "      <td>Hang on for the comedy that goes to infinity a...</td>\n",
       "      <td>Jim Varney</td>\n",
       "    </tr>\n",
       "    <tr>\n",
       "      <th>4</th>\n",
       "      <td>1</td>\n",
       "      <td>Toy Story (1995)</td>\n",
       "      <td>[Adventure, Animation, Children, Comedy, Fantasy]</td>\n",
       "      <td>114709</td>\n",
       "      <td>862</td>\n",
       "      <td>Led by Woody, Andy's toys live happily in his ...</td>\n",
       "      <td>100.954</td>\n",
       "      <td>81</td>\n",
       "      <td>7.97</td>\n",
       "      <td>17277</td>\n",
       "      <td>Hang on for the comedy that goes to infinity a...</td>\n",
       "      <td>Wallace Shawn</td>\n",
       "    </tr>\n",
       "  </tbody>\n",
       "</table>\n",
       "</div>"
      ],
      "text/plain": [
       "   movieId             title  \\\n",
       "0        1  Toy Story (1995)   \n",
       "1        1  Toy Story (1995)   \n",
       "2        1  Toy Story (1995)   \n",
       "3        1  Toy Story (1995)   \n",
       "4        1  Toy Story (1995)   \n",
       "\n",
       "                                              genres  imdbId  tmdbId  \\\n",
       "0  [Adventure, Animation, Children, Comedy, Fantasy]  114709     862   \n",
       "1  [Adventure, Animation, Children, Comedy, Fantasy]  114709     862   \n",
       "2  [Adventure, Animation, Children, Comedy, Fantasy]  114709     862   \n",
       "3  [Adventure, Animation, Children, Comedy, Fantasy]  114709     862   \n",
       "4  [Adventure, Animation, Children, Comedy, Fantasy]  114709     862   \n",
       "\n",
       "                                            overview  popularity  runtime  \\\n",
       "0  Led by Woody, Andy's toys live happily in his ...     100.954       81   \n",
       "1  Led by Woody, Andy's toys live happily in his ...     100.954       81   \n",
       "2  Led by Woody, Andy's toys live happily in his ...     100.954       81   \n",
       "3  Led by Woody, Andy's toys live happily in his ...     100.954       81   \n",
       "4  Led by Woody, Andy's toys live happily in his ...     100.954       81   \n",
       "\n",
       "   vote_average  vote_count  \\\n",
       "0          7.97       17277   \n",
       "1          7.97       17277   \n",
       "2          7.97       17277   \n",
       "3          7.97       17277   \n",
       "4          7.97       17277   \n",
       "\n",
       "                                             tagline           cast  \n",
       "0  Hang on for the comedy that goes to infinity a...      Tom Hanks  \n",
       "1  Hang on for the comedy that goes to infinity a...      Tim Allen  \n",
       "2  Hang on for the comedy that goes to infinity a...    Don Rickles  \n",
       "3  Hang on for the comedy that goes to infinity a...     Jim Varney  \n",
       "4  Hang on for the comedy that goes to infinity a...  Wallace Shawn  "
      ]
     },
     "execution_count": 53,
     "metadata": {},
     "output_type": "execute_result"
    }
   ],
   "source": [
    "# Create a new DataFrame with exploded genres\n",
    "df_cast = df.explode('cast').reset_index(drop=True)\n",
    "df_cast.head()"
   ]
  },
  {
   "cell_type": "code",
   "execution_count": 54,
   "id": "df222da5",
   "metadata": {},
   "outputs": [
    {
     "data": {
      "image/png": "[encoded data removed]",
      "text/plain": [
       "<Figure size 864x576 with 1 Axes>"
      ]
     },
     "metadata": {
      "needs_background": "light"
     },
     "output_type": "display_data"
    }
   ],
   "source": [
    "# Assuming df_cast is your DataFrame\n",
    "\n",
    "# Group by cast and count the number of appearances\n",
    "cast_appearances = df_cast['cast'].str.split('|').explode().value_counts()\n",
    "\n",
    "# Select the top 20 cast with most appearances\n",
    "top_cast = cast_appearances.nlargest(20)\n",
    "\n",
    "# Plot the results using Seaborn\n",
    "plt.figure(figsize=(12, 8))\n",
    "sns.barplot(x=top_cast.values, y=top_cast.index,hue=top_cast.index, palette='Blues', legend=False)\n",
    "plt.xlabel('Number of Movies')\n",
    "plt.ylabel('Actor')\n",
    "plt.title('Top 20 Cast with Most Appearances in Movies')\n",
    "plt.show()\n",
    "\n"
   ]
  },
  {
   "cell_type": "code",
   "execution_count": 55,
   "id": "eaf2204f",
   "metadata": {},
   "outputs": [],
   "source": [
    "top_movies['cast']=top_movies['cast'].str.split('|')"
   ]
  },
  {
   "cell_type": "code",
   "execution_count": 56,
   "id": "7ae3de36",
   "metadata": {},
   "outputs": [
    {
     "data": {
      "text/html": [
       "<div>\n",
       "<style scoped>\n",
       "    .dataframe tbody tr th:only-of-type {\n",
       "        vertical-align: middle;\n",
       "    }\n",
       "\n",
       "    .dataframe tbody tr th {\n",
       "        vertical-align: top;\n",
       "    }\n",
       "\n",
       "    .dataframe thead th {\n",
       "        text-align: right;\n",
       "    }\n",
       "</style>\n",
       "<table border=\"1\" class=\"dataframe\">\n",
       "  <thead>\n",
       "    <tr style=\"text-align: right;\">\n",
       "      <th></th>\n",
       "      <th>movieId</th>\n",
       "      <th>title</th>\n",
       "      <th>genres</th>\n",
       "      <th>imdbId</th>\n",
       "      <th>tmdbId</th>\n",
       "      <th>overview</th>\n",
       "      <th>popularity</th>\n",
       "      <th>runtime</th>\n",
       "      <th>vote_average</th>\n",
       "      <th>vote_count</th>\n",
       "      <th>tagline</th>\n",
       "      <th>cast</th>\n",
       "    </tr>\n",
       "  </thead>\n",
       "  <tbody>\n",
       "    <tr>\n",
       "      <th>0</th>\n",
       "      <td>858</td>\n",
       "      <td>Godfather, The (1972)</td>\n",
       "      <td>[Crime, Drama]</td>\n",
       "      <td>68646</td>\n",
       "      <td>238</td>\n",
       "      <td>Spanning the years 1945 to 1955, a chronicle o...</td>\n",
       "      <td>147.845</td>\n",
       "      <td>175</td>\n",
       "      <td>8.710</td>\n",
       "      <td>18894</td>\n",
       "      <td>An offer you can't refuse.</td>\n",
       "      <td>[Marlon Brando, Al Pacino, James Caan, Robert ...</td>\n",
       "    </tr>\n",
       "    <tr>\n",
       "      <th>1</th>\n",
       "      <td>318</td>\n",
       "      <td>Shawshank Redemption, The (1994)</td>\n",
       "      <td>[Crime, Drama]</td>\n",
       "      <td>111161</td>\n",
       "      <td>278</td>\n",
       "      <td>Framed in the 1940s for the double murder of h...</td>\n",
       "      <td>121.554</td>\n",
       "      <td>142</td>\n",
       "      <td>8.704</td>\n",
       "      <td>24870</td>\n",
       "      <td>Fear can hold you prisoner. Hope can set you f...</td>\n",
       "      <td>[Tim Robbins, Morgan Freeman, Bob Gunton, Will...</td>\n",
       "    </tr>\n",
       "    <tr>\n",
       "      <th>2</th>\n",
       "      <td>1221</td>\n",
       "      <td>Godfather: Part II, The (1974)</td>\n",
       "      <td>[Crime, Drama]</td>\n",
       "      <td>71562</td>\n",
       "      <td>240</td>\n",
       "      <td>In the continuing saga of the Corleone crime f...</td>\n",
       "      <td>77.298</td>\n",
       "      <td>202</td>\n",
       "      <td>8.591</td>\n",
       "      <td>11409</td>\n",
       "      <td>All the power on earth can't change destiny.</td>\n",
       "      <td>[Al Pacino, Robert Duvall, Diane Keaton, Rober...</td>\n",
       "    </tr>\n",
       "    <tr>\n",
       "      <th>3</th>\n",
       "      <td>527</td>\n",
       "      <td>Schindler's List (1993)</td>\n",
       "      <td>[Drama, War]</td>\n",
       "      <td>108052</td>\n",
       "      <td>424</td>\n",
       "      <td>The true story of how businessman Oskar Schind...</td>\n",
       "      <td>63.432</td>\n",
       "      <td>195</td>\n",
       "      <td>8.571</td>\n",
       "      <td>14752</td>\n",
       "      <td>Whoever saves one life, saves the world entire.</td>\n",
       "      <td>[Liam Neeson, Ben Kingsley, Ralph Fiennes, Car...</td>\n",
       "    </tr>\n",
       "    <tr>\n",
       "      <th>4</th>\n",
       "      <td>1203</td>\n",
       "      <td>12 Angry Men (1957)</td>\n",
       "      <td>[Drama]</td>\n",
       "      <td>50083</td>\n",
       "      <td>389</td>\n",
       "      <td>The defense and the prosecution have rested an...</td>\n",
       "      <td>48.956</td>\n",
       "      <td>97</td>\n",
       "      <td>8.542</td>\n",
       "      <td>7768</td>\n",
       "      <td>Life is in their hands. Death is on their minds.</td>\n",
       "      <td>[Martin Balsam, John Fiedler, Lee J. Cobb, E.G...</td>\n",
       "    </tr>\n",
       "    <tr>\n",
       "      <th>5</th>\n",
       "      <td>5618</td>\n",
       "      <td>Spirited Away (Sen to Chihiro no kamikakushi) ...</td>\n",
       "      <td>[Adventure, Animation, Fantasy]</td>\n",
       "      <td>245429</td>\n",
       "      <td>129</td>\n",
       "      <td>A young girl, Chihiro, becomes trapped in a st...</td>\n",
       "      <td>97.582</td>\n",
       "      <td>125</td>\n",
       "      <td>8.540</td>\n",
       "      <td>15055</td>\n",
       "      <td>NaN</td>\n",
       "      <td>[Rumi Hiiragi, Miyu Irino, Mari Natsuki, Takas...</td>\n",
       "    </tr>\n",
       "    <tr>\n",
       "      <th>6</th>\n",
       "      <td>58559</td>\n",
       "      <td>Dark Knight, The (2008)</td>\n",
       "      <td>[Action, Crime, Drama]</td>\n",
       "      <td>468569</td>\n",
       "      <td>155</td>\n",
       "      <td>Batman raises the stakes in his war on crime. ...</td>\n",
       "      <td>115.589</td>\n",
       "      <td>152</td>\n",
       "      <td>8.512</td>\n",
       "      <td>30851</td>\n",
       "      <td>Welcome to a world without rules.</td>\n",
       "      <td>[Christian Bale, Heath Ledger, Michael Caine, ...</td>\n",
       "    </tr>\n",
       "    <tr>\n",
       "      <th>7</th>\n",
       "      <td>3147</td>\n",
       "      <td>Green Mile, The (1999)</td>\n",
       "      <td>[Crime, Drama]</td>\n",
       "      <td>120689</td>\n",
       "      <td>497</td>\n",
       "      <td>A supernatural tale set on death row in a Sout...</td>\n",
       "      <td>71.236</td>\n",
       "      <td>189</td>\n",
       "      <td>8.508</td>\n",
       "      <td>16098</td>\n",
       "      <td>Miracles do happen.</td>\n",
       "      <td>[Tom Hanks, Michael Clarke Duncan, David Morse...</td>\n",
       "    </tr>\n",
       "    <tr>\n",
       "      <th>8</th>\n",
       "      <td>2019</td>\n",
       "      <td>Seven Samurai (Shichinin no samurai) (1954)</td>\n",
       "      <td>[Action, Adventure, Drama]</td>\n",
       "      <td>47478</td>\n",
       "      <td>346</td>\n",
       "      <td>A samurai answers a village's request for prot...</td>\n",
       "      <td>42.812</td>\n",
       "      <td>207</td>\n",
       "      <td>8.500</td>\n",
       "      <td>3283</td>\n",
       "      <td>The Mighty Warriors Who Became the Seven Natio...</td>\n",
       "      <td>[Toshirō Mifune, Takashi Shimura, Yoshio Inaba...</td>\n",
       "    </tr>\n",
       "    <tr>\n",
       "      <th>9</th>\n",
       "      <td>2324</td>\n",
       "      <td>Life Is Beautiful (La Vita è bella) (1997)</td>\n",
       "      <td>[Comedy, Drama, Romance, War]</td>\n",
       "      <td>118799</td>\n",
       "      <td>637</td>\n",
       "      <td>A touching story of an Italian book seller of ...</td>\n",
       "      <td>40.478</td>\n",
       "      <td>116</td>\n",
       "      <td>8.500</td>\n",
       "      <td>12324</td>\n",
       "      <td>An unforgettable fable that proves love, famil...</td>\n",
       "      <td>[Roberto Benigni, Nicoletta Braschi, Giorgio C...</td>\n",
       "    </tr>\n",
       "  </tbody>\n",
       "</table>\n",
       "</div>"
      ],
      "text/plain": [
       "   movieId                                              title  \\\n",
       "0      858                              Godfather, The (1972)   \n",
       "1      318                   Shawshank Redemption, The (1994)   \n",
       "2     1221                     Godfather: Part II, The (1974)   \n",
       "3      527                            Schindler's List (1993)   \n",
       "4     1203                                12 Angry Men (1957)   \n",
       "5     5618  Spirited Away (Sen to Chihiro no kamikakushi) ...   \n",
       "6    58559                            Dark Knight, The (2008)   \n",
       "7     3147                             Green Mile, The (1999)   \n",
       "8     2019        Seven Samurai (Shichinin no samurai) (1954)   \n",
       "9     2324         Life Is Beautiful (La Vita è bella) (1997)   \n",
       "\n",
       "                            genres  imdbId  tmdbId  \\\n",
       "0                   [Crime, Drama]   68646     238   \n",
       "1                   [Crime, Drama]  111161     278   \n",
       "2                   [Crime, Drama]   71562     240   \n",
       "3                     [Drama, War]  108052     424   \n",
       "4                          [Drama]   50083     389   \n",
       "5  [Adventure, Animation, Fantasy]  245429     129   \n",
       "6           [Action, Crime, Drama]  468569     155   \n",
       "7                   [Crime, Drama]  120689     497   \n",
       "8       [Action, Adventure, Drama]   47478     346   \n",
       "9    [Comedy, Drama, Romance, War]  118799     637   \n",
       "\n",
       "                                            overview  popularity  runtime  \\\n",
       "0  Spanning the years 1945 to 1955, a chronicle o...     147.845      175   \n",
       "1  Framed in the 1940s for the double murder of h...     121.554      142   \n",
       "2  In the continuing saga of the Corleone crime f...      77.298      202   \n",
       "3  The true story of how businessman Oskar Schind...      63.432      195   \n",
       "4  The defense and the prosecution have rested an...      48.956       97   \n",
       "5  A young girl, Chihiro, becomes trapped in a st...      97.582      125   \n",
       "6  Batman raises the stakes in his war on crime. ...     115.589      152   \n",
       "7  A supernatural tale set on death row in a Sout...      71.236      189   \n",
       "8  A samurai answers a village's request for prot...      42.812      207   \n",
       "9  A touching story of an Italian book seller of ...      40.478      116   \n",
       "\n",
       "   vote_average  vote_count  \\\n",
       "0         8.710       18894   \n",
       "1         8.704       24870   \n",
       "2         8.591       11409   \n",
       "3         8.571       14752   \n",
       "4         8.542        7768   \n",
       "5         8.540       15055   \n",
       "6         8.512       30851   \n",
       "7         8.508       16098   \n",
       "8         8.500        3283   \n",
       "9         8.500       12324   \n",
       "\n",
       "                                             tagline  \\\n",
       "0                         An offer you can't refuse.   \n",
       "1  Fear can hold you prisoner. Hope can set you f...   \n",
       "2       All the power on earth can't change destiny.   \n",
       "3    Whoever saves one life, saves the world entire.   \n",
       "4   Life is in their hands. Death is on their minds.   \n",
       "5                                                NaN   \n",
       "6                  Welcome to a world without rules.   \n",
       "7                                Miracles do happen.   \n",
       "8  The Mighty Warriors Who Became the Seven Natio...   \n",
       "9  An unforgettable fable that proves love, famil...   \n",
       "\n",
       "                                                cast  \n",
       "0  [Marlon Brando, Al Pacino, James Caan, Robert ...  \n",
       "1  [Tim Robbins, Morgan Freeman, Bob Gunton, Will...  \n",
       "2  [Al Pacino, Robert Duvall, Diane Keaton, Rober...  \n",
       "3  [Liam Neeson, Ben Kingsley, Ralph Fiennes, Car...  \n",
       "4  [Martin Balsam, John Fiedler, Lee J. Cobb, E.G...  \n",
       "5  [Rumi Hiiragi, Miyu Irino, Mari Natsuki, Takas...  \n",
       "6  [Christian Bale, Heath Ledger, Michael Caine, ...  \n",
       "7  [Tom Hanks, Michael Clarke Duncan, David Morse...  \n",
       "8  [Toshirō Mifune, Takashi Shimura, Yoshio Inaba...  \n",
       "9  [Roberto Benigni, Nicoletta Braschi, Giorgio C...  "
      ]
     },
     "execution_count": 56,
     "metadata": {},
     "output_type": "execute_result"
    }
   ],
   "source": [
    "top_movies.reset_index(drop=True)"
   ]
  },
  {
   "cell_type": "markdown",
   "id": "3ed56b7f",
   "metadata": {},
   "source": [
    "## Results\n",
    "\n",
    "Based on the Data Analysis, there are couple of factors that can influence movie recommendation for a user, I can see movie Genre, vote_count, popularity and ratings given by a user himself contributes most to the movie recommendation.\n",
    "\n",
    "`genre-based recommendation` is an example of content-based recommendation. Content-based recommendation systems make recommendations based on the features or content of the items and the preferences expressed by the user. In the case of movies, the genre is one of the key features or content attributes.\n",
    "\n",
    "In a genre-based recommendation system, the system recommends items that are similar in terms of their genre to the ones the user has liked or interacted with. For example, if a user has shown a preference for movies in the \"Action\" genre, the system might recommend other movies that also fall into the \"Action\" genre.\n",
    " \n",
    "But there are some limitations of Content-based systems recommend items similar to what a user has already liked. This can result in a \"filter bubble\" where users are exposed to a narrow set of recommendations, limiting the discovery of new and diverse items. Over time, user preferences may change, but content-based systems might not adapt quickly. If the system doesn't update user profiles effectively, recommendations may become less accurate.\n",
    "\n",
    "I will applying the **Collaborative Filtering Algorithms to build movie recommender system**"
   ]
  },
  {
   "cell_type": "markdown",
   "id": "315b52f0",
   "metadata": {},
   "source": [
    "## Collaborative Filtering\n",
    "\n",
    "I will be using powerful Surprise Library to build a collaborative filter based on single value decomposition."
   ]
  },
  {
   "cell_type": "code",
   "execution_count": 57,
   "id": "1c5f2a90",
   "metadata": {},
   "outputs": [],
   "source": [
    "from surprise import Dataset, Reader\n",
    "from surprise.model_selection import train_test_split\n",
    "from surprise import SVD\n",
    "from surprise.model_selection import cross_validate, GridSearchCV"
   ]
  },
  {
   "cell_type": "markdown",
   "id": "425917a1",
   "metadata": {},
   "source": [
    "### Load data"
   ]
  },
  {
   "cell_type": "code",
   "execution_count": 58,
   "id": "5372bef6",
   "metadata": {},
   "outputs": [],
   "source": [
    "# Load data\n",
    "ratings = pd.read_csv('ratings.csv')\n",
    "movies = pd.read_csv('movies.csv')\n",
    "\n",
    "# Create a Surprise dataset\n",
    "reader = Reader(rating_scale=(1, 5))\n",
    "data = Dataset.load_from_df(ratings[['userId', 'movieId', 'rating']], reader)\n"
   ]
  },
  {
   "cell_type": "markdown",
   "id": "f021590b",
   "metadata": {},
   "source": [
    "### Select best parameters for model training"
   ]
  },
  {
   "cell_type": "code",
   "execution_count": 59,
   "id": "889a4265",
   "metadata": {},
   "outputs": [],
   "source": [
    "# param_grid = {\n",
    "#     'n_factors':[5, 10, 20, 100],\n",
    "#     'reg_all': [0.001, 0.01, 0.1],\n",
    "#     'n_epochs': [10,20,100]\n",
    "# }"
   ]
  },
  {
   "cell_type": "code",
   "execution_count": 60,
   "id": "55ff7455",
   "metadata": {},
   "outputs": [],
   "source": [
    "# gs = GridSearchCV(SVD, param_grid, measures=['rmse', 'mae'], cv=5)"
   ]
  },
  {
   "cell_type": "code",
   "execution_count": 61,
   "id": "11f3ff76",
   "metadata": {},
   "outputs": [],
   "source": [
    "# gs.fit(data)"
   ]
  },
  {
   "cell_type": "markdown",
   "id": "adae9605",
   "metadata": {},
   "source": [
    "#### Evaluation metric would be rmse\n",
    "\n",
    "root mean squared error, lesser the rmse value better the performance of the model"
   ]
  },
  {
   "cell_type": "code",
   "execution_count": 62,
   "id": "b4af9cf3",
   "metadata": {},
   "outputs": [],
   "source": [
    "# print(gs.best_score['rmse'])"
   ]
  },
  {
   "cell_type": "code",
   "execution_count": 63,
   "id": "cb1b7939",
   "metadata": {},
   "outputs": [],
   "source": [
    "# print(gs.best_params['rmse'])"
   ]
  },
  {
   "cell_type": "code",
   "execution_count": 64,
   "id": "bdaf0438",
   "metadata": {},
   "outputs": [],
   "source": [
    "data = data.build_full_trainset()"
   ]
  },
  {
   "cell_type": "markdown",
   "id": "f689c57e",
   "metadata": {},
   "source": [
    "### Choosing best parameters to train the model"
   ]
  },
  {
   "cell_type": "code",
   "execution_count": 65,
   "id": "9619038b",
   "metadata": {},
   "outputs": [
    {
     "data": {
      "text/plain": [
       "<surprise.prediction_algorithms.matrix_factorization.SVD at 0x13f9d16f0>"
      ]
     },
     "execution_count": 65,
     "metadata": {},
     "output_type": "execute_result"
    }
   ],
   "source": [
    "# Use the SVD algorithm for collaborative filtering\n",
    "algo = SVD(n_factors=100, n_epochs=100, reg_all=0.1)\n",
    "algo.fit(data)"
   ]
  },
  {
   "cell_type": "code",
   "execution_count": 66,
   "id": "f17b98f0",
   "metadata": {},
   "outputs": [],
   "source": [
    "def get_movie_recommendations(user_id, model, n=5):\n",
    "    # Get a list of all movie IDs\n",
    "    all_movie_ids = ratings['movieId'].unique()\n",
    "\n",
    "    # Get movie IDs not rated by the user\n",
    "    user_unrated_movies = [movie_id for movie_id in all_movie_ids if movie_id not in [item_inner_id for (item_inner_id, _) in data.ur[data.to_inner_uid(user_id)]]]\n",
    "\n",
    "    # Predict ratings for unrated movies\n",
    "    predictions = [model.predict(user_id, movie_id) for movie_id in user_unrated_movies]\n",
    "\n",
    "    # Sort predictions by estimated rating\n",
    "    predictions.sort(key=lambda x: x.est, reverse=True)\n",
    "\n",
    "    # Get the top N recommendations\n",
    "    top_recommendations = predictions[:n]\n",
    "    top_movies_info = [(movies[movies['movieId'] == prediction.iid]['title'].values[0], prediction.est) for prediction in top_recommendations]\n",
    "    \n",
    "    return top_movies_info\n",
    "\n",
    "# Example: Get recommendations for user_id 1\n"
   ]
  },
  {
   "cell_type": "code",
   "execution_count": 80,
   "id": "608f7a8e",
   "metadata": {},
   "outputs": [
    {
     "name": "stdout",
     "output_type": "stream",
     "text": [
      "Top 5 movie recommendations for user 309:\n",
      "[('Jetée, La (1962)', 4.719696649878233), ('Three Billboards Outside Ebbing, Missouri (2017)', 4.4873400348922114), ('Seve (2014)', 4.487110231884972), ('Match Factory Girl, The (Tulitikkutehtaan tyttö) (1990)', 4.442134672811237), ('Neon Genesis Evangelion: The End of Evangelion (Shin seiki Evangelion Gekijô-ban: Air/Magokoro wo, kimi ni) (1997)', 4.431570559945344)]\n"
     ]
    }
   ],
   "source": [
    "user_id = random.randint(1, 610)\n",
    "\n",
    "recommendations = get_movie_recommendations(user_id, algo, n=5)\n",
    "print(f\"Top 5 movie recommendations for user {user_id}:\\n{recommendations}\")\n"
   ]
  },
  {
   "cell_type": "markdown",
   "id": "881859f6",
   "metadata": {},
   "source": [
    "### Convert model in deployable format"
   ]
  },
  {
   "cell_type": "code",
   "execution_count": 75,
   "id": "f5822f45",
   "metadata": {},
   "outputs": [
    {
     "data": {
      "text/plain": [
       "['recommendation_model.joblib']"
      ]
     },
     "execution_count": 75,
     "metadata": {},
     "output_type": "execute_result"
    }
   ],
   "source": [
    "# Example for scikit-learn\n",
    "from joblib import dump\n",
    "\n",
    "# Assuming `model` is your trained model\n",
    "dump(algo, 'recommendation_model.joblib')"
   ]
  },
  {
   "cell_type": "code",
   "execution_count": null,
   "id": "dd735c5d",
   "metadata": {},
   "outputs": [],
   "source": []
  }
 ],
 "metadata": {
  "kernelspec": {
   "display_name": "Python 3 (ipykernel)",
   "language": "python",
   "name": "python3"
  },
  "language_info": {
   "codemirror_mode": {
    "name": "ipython",
    "version": 3
   },
   "file_extension": ".py",
   "mimetype": "text/x-python",
   "name": "python",
   "nbconvert_exporter": "python",
   "pygments_lexer": "ipython3",
   "version": "3.10.7"
  }
 },
 "nbformat": 4,
 "nbformat_minor": 5
}
